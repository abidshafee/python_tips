{
  "nbformat": 4,
  "nbformat_minor": 0,
  "metadata": {
    "colab": {
      "name": "DES in python.ipynb",
      "provenance": [],
      "authorship_tag": "ABX9TyOwusq/OL+glTDjmKCTl2n6",
      "include_colab_link": true
    },
    "kernelspec": {
      "name": "python3",
      "display_name": "Python 3"
    },
    "language_info": {
      "name": "python"
    }
  },
  "cells": [
    {
      "cell_type": "markdown",
      "metadata": {
        "id": "view-in-github",
        "colab_type": "text"
      },
      "source": [
        "<a href=\"https://colab.research.google.com/github/abidshafee/python_tips/blob/main/DES_in_python.ipynb\" target=\"_parent\"><img src=\"https://colab.research.google.com/assets/colab-badge.svg\" alt=\"Open In Colab\"/></a>"
      ]
    },
    {
      "cell_type": "code",
      "execution_count": 1,
      "metadata": {
        "colab": {
          "base_uri": "https://localhost:8080/"
        },
        "id": "2LWPygNJXy4r",
        "outputId": "b9b7e540-ca29-473e-9192-01b10f900298"
      },
      "outputs": [
        {
          "output_type": "stream",
          "name": "stdout",
          "text": [
            "Looking in indexes: https://pypi.org/simple, https://us-python.pkg.dev/colab-wheels/public/simple/\n",
            "Collecting pycrypto\n",
            "  Downloading pycrypto-2.6.1.tar.gz (446 kB)\n",
            "\u001b[K     |████████████████████████████████| 446 kB 4.2 MB/s \n",
            "\u001b[?25hBuilding wheels for collected packages: pycrypto\n",
            "  Building wheel for pycrypto (setup.py) ... \u001b[?25l\u001b[?25hdone\n",
            "  Created wheel for pycrypto: filename=pycrypto-2.6.1-cp37-cp37m-linux_x86_64.whl size=499932 sha256=43c6524a2b95650a211d7af8c22bde7ee92e18f5bc8a523d319addcf43e2d424\n",
            "  Stored in directory: /root/.cache/pip/wheels/cf/85/ba/bbd7c96add459de7598fb424e5ff2309baf2095c844ac0f191\n",
            "Successfully built pycrypto\n",
            "Installing collected packages: pycrypto\n",
            "Successfully installed pycrypto-2.6.1\n",
            "Looking in indexes: https://pypi.org/simple, https://us-python.pkg.dev/colab-wheels/public/simple/\n",
            "Collecting base32hex\n",
            "  Downloading base32hex-1.0.2.tar.gz (2.1 kB)\n",
            "Building wheels for collected packages: base32hex\n",
            "  Building wheel for base32hex (setup.py) ... \u001b[?25l\u001b[?25hdone\n",
            "  Created wheel for base32hex: filename=base32hex-1.0.2-py3-none-any.whl size=2270 sha256=43f1ec59153b210a8d04e54f0dda6ed71e33e2eda9f6151013eddf475b1dfd7a\n",
            "  Stored in directory: /root/.cache/pip/wheels/6a/40/74/a70cdb7002e00447249a355fcc114543c9c5f5e0475f13a1b8\n",
            "Successfully built base32hex\n",
            "Installing collected packages: base32hex\n",
            "Successfully installed base32hex-1.0.2\n"
          ]
        }
      ],
      "source": [
        "!pip install pycrypto\n",
        "!pip install base32hex  "
      ]
    },
    {
      "cell_type": "code",
      "source": [
        "import base32hex\n",
        "import hashlib\n",
        "from Crypto.Cipher import DES\n",
        "password = \"Password\"\n",
        "salt = '\\x28\\xAB\\xBC\\xCD\\xDE\\xEF\\x00\\x33'\n",
        "key = password + salt\n",
        "#m = hashlib.md5()\n",
        "key = key.encode('utf-8')\n",
        "m = hashlib.md5(key)\n",
        "key = m.digest()\n",
        "(dk, iv) =(key[:8], key[8:])\n",
        "crypter = DES.new(dk, DES.MODE_CBC, iv)\n",
        "\n",
        "plain_text= \"Here are some plain text\"\n",
        "\n",
        "print(\"The plain text is : \",plain_text)\n",
        "plain_text += '\\x00' * (8 - len(plain_text) % 8)\n",
        "ciphertext = crypter.encrypt(plain_text)\n",
        "encode_string= base32hex.b32encode(ciphertext)\n",
        "print(\"The encoded string is : \",encode_string)"
      ],
      "metadata": {
        "colab": {
          "base_uri": "https://localhost:8080/"
        },
        "id": "c2tu56crX_AX",
        "outputId": "794018d9-6d50-4b3a-fb5f-cddcb91a5848"
      },
      "execution_count": 19,
      "outputs": [
        {
          "output_type": "stream",
          "name": "stdout",
          "text": [
            "The plain text is :  Here are some plain text\n",
            "The encoded string is :  46JOAA21V8081698M3O74LI6CVP0EK7EOG2555LGJOL39AKNT24G====\n"
          ]
        }
      ]
    },
    {
      "cell_type": "code",
      "source": [
        "key.encode('utf-8')"
      ],
      "metadata": {
        "colab": {
          "base_uri": "https://localhost:8080/"
        },
        "id": "gd61idYbYS6-",
        "outputId": "abefca49-a0a0-42e7-e374-e2c10317b44a"
      },
      "execution_count": 9,
      "outputs": [
        {
          "output_type": "execute_result",
          "data": {
            "text/plain": [
              "b'Password(\\xc2\\xab\\xc2\\xbc\\xc3\\x8d\\xc3\\x9e\\xc3\\xaf\\x003'"
            ]
          },
          "metadata": {},
          "execution_count": 9
        }
      ]
    },
    {
      "cell_type": "code",
      "source": [
        "import base32hex\n",
        "import hashlib\n",
        "from Crypto.Cipher import DES\n",
        "password = \"Password\"\n",
        "salt = '\\x28\\xAB\\xBC\\xCD\\xDE\\xEF\\x00\\x33'\n",
        "key = password + salt\n",
        "key = key.encode('utf-8')\n",
        "m = hashlib.md5(key)\n",
        "key = m.digest()\n",
        "(dk, iv) =(key[:8], key[8:])\n",
        "crypter = DES.new(dk, DES.MODE_CBC, iv)\n",
        "\n",
        "#encrypted_string='UH562EGM8RCHHTOUC5CTRS59OG======'\n",
        "encode_string = map(int,encode_string)\n",
        "\n",
        "print(\"The ecrypted string is : \",encode_string)\n",
        "encrypted_string=base32hex.b32decode(encode_string)\n",
        "decrypted_string = crypter.decrypt(encrypted_string)\n",
        "print(\"The decrypted string is : \",decrypted_string)"
      ],
      "metadata": {
        "colab": {
          "base_uri": "https://localhost:8080/",
          "height": 397
        },
        "id": "yTVK2_fqZfld",
        "outputId": "2f9e5e1f-1081-454f-d668-d017ade1cade"
      },
      "execution_count": 18,
      "outputs": [
        {
          "output_type": "stream",
          "name": "stdout",
          "text": [
            "The ecrypted string is :  <map object at 0x7f075f630210>\n"
          ]
        },
        {
          "output_type": "error",
          "ename": "AttributeError",
          "evalue": "ignored",
          "traceback": [
            "\u001b[0;31m---------------------------------------------------------------------------\u001b[0m",
            "\u001b[0;31mAttributeError\u001b[0m                            Traceback (most recent call last)",
            "\u001b[0;32m<ipython-input-18-da2d17d0b07b>\u001b[0m in \u001b[0;36m<module>\u001b[0;34m()\u001b[0m\n\u001b[1;32m     15\u001b[0m \u001b[0;34m\u001b[0m\u001b[0m\n\u001b[1;32m     16\u001b[0m \u001b[0mprint\u001b[0m\u001b[0;34m(\u001b[0m\u001b[0;34m\"The ecrypted string is : \"\u001b[0m\u001b[0;34m,\u001b[0m\u001b[0mencode_string\u001b[0m\u001b[0;34m)\u001b[0m\u001b[0;34m\u001b[0m\u001b[0;34m\u001b[0m\u001b[0m\n\u001b[0;32m---> 17\u001b[0;31m \u001b[0mencrypted_string\u001b[0m\u001b[0;34m=\u001b[0m\u001b[0mbase32hex\u001b[0m\u001b[0;34m.\u001b[0m\u001b[0mb32decode\u001b[0m\u001b[0;34m(\u001b[0m\u001b[0mencode_string\u001b[0m\u001b[0;34m)\u001b[0m\u001b[0;34m\u001b[0m\u001b[0;34m\u001b[0m\u001b[0m\n\u001b[0m\u001b[1;32m     18\u001b[0m \u001b[0mdecrypted_string\u001b[0m \u001b[0;34m=\u001b[0m \u001b[0mcrypter\u001b[0m\u001b[0;34m.\u001b[0m\u001b[0mdecrypt\u001b[0m\u001b[0;34m(\u001b[0m\u001b[0mencrypted_string\u001b[0m\u001b[0;34m)\u001b[0m\u001b[0;34m\u001b[0m\u001b[0;34m\u001b[0m\u001b[0m\n\u001b[1;32m     19\u001b[0m \u001b[0mprint\u001b[0m\u001b[0;34m(\u001b[0m\u001b[0;34m\"The decrypted string is : \"\u001b[0m\u001b[0;34m,\u001b[0m\u001b[0mdecrypted_string\u001b[0m\u001b[0;34m)\u001b[0m\u001b[0;34m\u001b[0m\u001b[0;34m\u001b[0m\u001b[0m\n",
            "\u001b[0;32m/usr/local/lib/python3.7/dist-packages/base32hex.py\u001b[0m in \u001b[0;36mb32decode\u001b[0;34m(src)\u001b[0m\n\u001b[1;32m    129\u001b[0m \u001b[0;34m\u001b[0m\u001b[0m\n\u001b[1;32m    130\u001b[0m \u001b[0;32mdef\u001b[0m \u001b[0mb32decode\u001b[0m\u001b[0;34m(\u001b[0m\u001b[0msrc\u001b[0m\u001b[0;34m)\u001b[0m\u001b[0;34m:\u001b[0m\u001b[0;34m\u001b[0m\u001b[0;34m\u001b[0m\u001b[0m\n\u001b[0;32m--> 131\u001b[0;31m     \u001b[0;32mreturn\u001b[0m \u001b[0mdecode\u001b[0m\u001b[0;34m(\u001b[0m\u001b[0msrc\u001b[0m\u001b[0;34m,\u001b[0m \u001b[0mencodeHex\u001b[0m\u001b[0;34m)\u001b[0m\u001b[0;34m\u001b[0m\u001b[0;34m\u001b[0m\u001b[0m\n\u001b[0m",
            "\u001b[0;32m/usr/local/lib/python3.7/dist-packages/base32hex.py\u001b[0m in \u001b[0;36mdecode\u001b[0;34m(src, str_map)\u001b[0m\n\u001b[1;32m     68\u001b[0m \u001b[0;34m\u001b[0m\u001b[0m\n\u001b[1;32m     69\u001b[0m \u001b[0;32mdef\u001b[0m \u001b[0mdecode\u001b[0m\u001b[0;34m(\u001b[0m\u001b[0msrc\u001b[0m\u001b[0;34m,\u001b[0m \u001b[0mstr_map\u001b[0m\u001b[0;34m)\u001b[0m\u001b[0;34m:\u001b[0m\u001b[0;34m\u001b[0m\u001b[0;34m\u001b[0m\u001b[0m\n\u001b[0;32m---> 70\u001b[0;31m     \u001b[0msrc\u001b[0m \u001b[0;34m=\u001b[0m \u001b[0msrc\u001b[0m\u001b[0;34m.\u001b[0m\u001b[0mupper\u001b[0m\u001b[0;34m(\u001b[0m\u001b[0;34m)\u001b[0m\u001b[0;34m\u001b[0m\u001b[0;34m\u001b[0m\u001b[0m\n\u001b[0m\u001b[1;32m     71\u001b[0m \u001b[0;34m\u001b[0m\u001b[0m\n\u001b[1;32m     72\u001b[0m     \u001b[0mend\u001b[0m \u001b[0;34m=\u001b[0m \u001b[0;32mFalse\u001b[0m\u001b[0;34m\u001b[0m\u001b[0;34m\u001b[0m\u001b[0m\n",
            "\u001b[0;31mAttributeError\u001b[0m: 'map' object has no attribute 'upper'"
          ]
        }
      ]
    },
    {
      "cell_type": "code",
      "source": [
        ""
      ],
      "metadata": {
        "id": "KHbT-skfdKry"
      },
      "execution_count": null,
      "outputs": []
    }
  ]
}