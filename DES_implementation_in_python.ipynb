{
  "nbformat": 4,
  "nbformat_minor": 0,
  "metadata": {
    "colab": {
      "name": "DES implementation in python.ipynb",
      "provenance": [],
      "authorship_tag": "ABX9TyM/9gCIkxcPvCLoPhqtIr0s",
      "include_colab_link": true
    },
    "kernelspec": {
      "name": "python3",
      "display_name": "Python 3"
    },
    "language_info": {
      "name": "python"
    }
  },
  "cells": [
    {
      "cell_type": "markdown",
      "metadata": {
        "id": "view-in-github",
        "colab_type": "text"
      },
      "source": [
        "<a href=\"https://colab.research.google.com/github/abidshafee/python_tips/blob/main/DES_implementation_in_python.ipynb\" target=\"_parent\"><img src=\"https://colab.research.google.com/assets/colab-badge.svg\" alt=\"Open In Colab\"/></a>"
      ]
    },
    {
      "cell_type": "markdown",
      "source": [
        "[https://techblogs.42gears.com/encrypt-and-decrypt-a-message-using-des-algorithm-in-python/](https://techblogs.42gears.com/encrypt-and-decrypt-a-message-using-des-algorithm-in-python/)"
      ],
      "metadata": {
        "id": "kjjUZ0W79k2t"
      }
    },
    {
      "cell_type": "code",
      "execution_count": null,
      "metadata": {
        "colab": {
          "base_uri": "https://localhost:8080/"
        },
        "id": "2LWPygNJXy4r",
        "outputId": "df88eccd-17e3-4beb-ab85-a751a38a98cf"
      },
      "outputs": [
        {
          "output_type": "stream",
          "name": "stdout",
          "text": [
            "Looking in indexes: https://pypi.org/simple, https://us-python.pkg.dev/colab-wheels/public/simple/\n",
            "Collecting pycrypto\n",
            "  Downloading pycrypto-2.6.1.tar.gz (446 kB)\n",
            "\u001b[K     |████████████████████████████████| 446 kB 9.7 MB/s \n",
            "\u001b[?25hBuilding wheels for collected packages: pycrypto\n",
            "  Building wheel for pycrypto (setup.py) ... \u001b[?25l\u001b[?25hdone\n",
            "  Created wheel for pycrypto: filename=pycrypto-2.6.1-cp37-cp37m-linux_x86_64.whl size=499932 sha256=bf788be0a1ea526781da2dcfc236b127659ca2ce366394261ed1e3d6b5689e60\n",
            "  Stored in directory: /root/.cache/pip/wheels/cf/85/ba/bbd7c96add459de7598fb424e5ff2309baf2095c844ac0f191\n",
            "Successfully built pycrypto\n",
            "Installing collected packages: pycrypto\n",
            "Successfully installed pycrypto-2.6.1\n",
            "Looking in indexes: https://pypi.org/simple, https://us-python.pkg.dev/colab-wheels/public/simple/\n",
            "Collecting base32hex\n",
            "  Downloading base32hex-1.0.2.tar.gz (2.1 kB)\n",
            "Building wheels for collected packages: base32hex\n",
            "  Building wheel for base32hex (setup.py) ... \u001b[?25l\u001b[?25hdone\n",
            "  Created wheel for base32hex: filename=base32hex-1.0.2-py3-none-any.whl size=2270 sha256=3731536248ac2db3ee2167a9a1ca39cf8bcc9f642ec93f381f635bda92bbe0a3\n",
            "  Stored in directory: /root/.cache/pip/wheels/6a/40/74/a70cdb7002e00447249a355fcc114543c9c5f5e0475f13a1b8\n",
            "Successfully built base32hex\n",
            "Installing collected packages: base32hex\n",
            "Successfully installed base32hex-1.0.2\n"
          ]
        }
      ],
      "source": [
        "!pip install pycrypto\n",
        "!pip install base32hex  "
      ]
    },
    {
      "cell_type": "code",
      "source": [
        "import base32hex\n",
        "import hashlib\n",
        "from Crypto.Cipher import DES\n",
        "password = \"Password\"\n",
        "salt = '\\x28\\xAB\\xBC\\xCD\\xDE\\xEF\\x00\\x33'\n",
        "key = password + salt\n",
        "#m = hashlib.md5()\n",
        "key = key.encode('utf-8')\n",
        "m = hashlib.md5(key)\n",
        "key = m.digest()\n",
        "(dk, iv) =(key[:8], key[8:])\n",
        "crypter = DES.new(dk, DES.MODE_CBC, iv)\n",
        "\n",
        "plain_text= \"Here are some plain text\"\n",
        "\n",
        "print(\"The plain text is : \",plain_text)\n",
        "plain_text += '\\x00' * (8 - len(plain_text) % 8)\n",
        "ciphertext = crypter.encrypt(plain_text)\n",
        "encode_string= base32hex.b32encode(ciphertext)\n",
        "print(\"The encoded string is : \",encode_string)"
      ],
      "metadata": {
        "colab": {
          "base_uri": "https://localhost:8080/"
        },
        "id": "c2tu56crX_AX",
        "outputId": "7bbb725b-3199-43ed-e66b-a2d37741c8c0"
      },
      "execution_count": null,
      "outputs": [
        {
          "output_type": "stream",
          "name": "stdout",
          "text": [
            "The plain text is :  Here are some plain text\n",
            "The encoded string is :  46JOAA21V8081698M3O74LI6CVP0EK7EOG2555LGJOL39AKNT24G====\n"
          ]
        }
      ]
    },
    {
      "cell_type": "code",
      "source": [
        "key.encode('utf-8')"
      ],
      "metadata": {
        "colab": {
          "base_uri": "https://localhost:8080/"
        },
        "id": "gd61idYbYS6-",
        "outputId": "abefca49-a0a0-42e7-e374-e2c10317b44a"
      },
      "execution_count": null,
      "outputs": [
        {
          "output_type": "execute_result",
          "data": {
            "text/plain": [
              "b'Password(\\xc2\\xab\\xc2\\xbc\\xc3\\x8d\\xc3\\x9e\\xc3\\xaf\\x003'"
            ]
          },
          "metadata": {},
          "execution_count": 9
        }
      ]
    },
    {
      "cell_type": "code",
      "source": [
        "import base32hex\n",
        "import hashlib\n",
        "from Crypto.Cipher import DES\n",
        "password = \"Password\"\n",
        "salt = '\\x28\\xAB\\xBC\\xCD\\xDE\\xEF\\x00\\x33'\n",
        "key = password + salt\n",
        "key = key.encode('utf-8')\n",
        "m = hashlib.md5(key)\n",
        "key = m.digest()\n",
        "(dk, iv) =(key[:8], key[8:])\n",
        "crypter = DES.new(dk, DES.MODE_CBC, iv)\n",
        "\n",
        "encrypted_string='UH562EGM8RCHHTOUC5CTRS59OG======'\n",
        "\n",
        "print(\"The ecrypted string is : \",encrypted_string)\n",
        "encrypted_string=base32hex.b32decode(encrypted_string)\n",
        "decrypted_string = crypter.decrypt(encrypted_string)\n",
        "print(\"The decrypted string is : \",decrypted_string)"
      ],
      "metadata": {
        "colab": {
          "base_uri": "https://localhost:8080/",
          "height": 397
        },
        "id": "dc4UJs1h4u8E",
        "outputId": "dd55c992-628e-46a5-8e72-b26d6ba781c5"
      },
      "execution_count": null,
      "outputs": [
        {
          "output_type": "stream",
          "name": "stdout",
          "text": [
            "The ecrypted string is :  UH562EGM8RCHHTOUC5CTRS59OG======\n"
          ]
        },
        {
          "output_type": "error",
          "ename": "TypeError",
          "evalue": "ignored",
          "traceback": [
            "\u001b[0;31m---------------------------------------------------------------------------\u001b[0m",
            "\u001b[0;31mTypeError\u001b[0m                                 Traceback (most recent call last)",
            "\u001b[0;32m<ipython-input-18-e52cf5186547>\u001b[0m in \u001b[0;36m<module>\u001b[0;34m()\u001b[0m\n\u001b[1;32m     14\u001b[0m \u001b[0;34m\u001b[0m\u001b[0m\n\u001b[1;32m     15\u001b[0m \u001b[0mprint\u001b[0m\u001b[0;34m(\u001b[0m\u001b[0;34m\"The ecrypted string is : \"\u001b[0m\u001b[0;34m,\u001b[0m\u001b[0mencrypted_string\u001b[0m\u001b[0;34m)\u001b[0m\u001b[0;34m\u001b[0m\u001b[0;34m\u001b[0m\u001b[0m\n\u001b[0;32m---> 16\u001b[0;31m \u001b[0mencrypted_string\u001b[0m\u001b[0;34m=\u001b[0m\u001b[0mbase32hex\u001b[0m\u001b[0;34m.\u001b[0m\u001b[0mb32decode\u001b[0m\u001b[0;34m(\u001b[0m\u001b[0mencrypted_string\u001b[0m\u001b[0;34m)\u001b[0m\u001b[0;34m\u001b[0m\u001b[0;34m\u001b[0m\u001b[0m\n\u001b[0m\u001b[1;32m     17\u001b[0m \u001b[0mdecrypted_string\u001b[0m \u001b[0;34m=\u001b[0m \u001b[0mcrypter\u001b[0m\u001b[0;34m.\u001b[0m\u001b[0mdecrypt\u001b[0m\u001b[0;34m(\u001b[0m\u001b[0mencrypted_string\u001b[0m\u001b[0;34m)\u001b[0m\u001b[0;34m\u001b[0m\u001b[0;34m\u001b[0m\u001b[0m\n\u001b[1;32m     18\u001b[0m \u001b[0mprint\u001b[0m\u001b[0;34m(\u001b[0m\u001b[0;34m\"The decrypted string is : \"\u001b[0m\u001b[0;34m,\u001b[0m\u001b[0mdecrypted_string\u001b[0m\u001b[0;34m)\u001b[0m\u001b[0;34m\u001b[0m\u001b[0;34m\u001b[0m\u001b[0m\n",
            "\u001b[0;32m/usr/local/lib/python3.7/dist-packages/base32hex.py\u001b[0m in \u001b[0;36mb32decode\u001b[0;34m(src)\u001b[0m\n\u001b[1;32m    129\u001b[0m \u001b[0;34m\u001b[0m\u001b[0m\n\u001b[1;32m    130\u001b[0m \u001b[0;32mdef\u001b[0m \u001b[0mb32decode\u001b[0m\u001b[0;34m(\u001b[0m\u001b[0msrc\u001b[0m\u001b[0;34m)\u001b[0m\u001b[0;34m:\u001b[0m\u001b[0;34m\u001b[0m\u001b[0;34m\u001b[0m\u001b[0m\n\u001b[0;32m--> 131\u001b[0;31m     \u001b[0;32mreturn\u001b[0m \u001b[0mdecode\u001b[0m\u001b[0;34m(\u001b[0m\u001b[0msrc\u001b[0m\u001b[0;34m,\u001b[0m \u001b[0mencodeHex\u001b[0m\u001b[0;34m)\u001b[0m\u001b[0;34m\u001b[0m\u001b[0;34m\u001b[0m\u001b[0m\n\u001b[0m",
            "\u001b[0;32m/usr/local/lib/python3.7/dist-packages/base32hex.py\u001b[0m in \u001b[0;36mdecode\u001b[0;34m(src, str_map)\u001b[0m\n\u001b[1;32m    113\u001b[0m             \u001b[0mdst\u001b[0m \u001b[0;34m=\u001b[0m \u001b[0mdst\u001b[0m\u001b[0;34m[\u001b[0m\u001b[0;34m:\u001b[0m\u001b[0;36m4\u001b[0m\u001b[0;34m]\u001b[0m\u001b[0;34m\u001b[0m\u001b[0;34m\u001b[0m\u001b[0m\n\u001b[1;32m    114\u001b[0m         \u001b[0;32melif\u001b[0m \u001b[0msrc_len\u001b[0m \u001b[0;34m==\u001b[0m \u001b[0;36m8\u001b[0m\u001b[0;34m:\u001b[0m\u001b[0;34m\u001b[0m\u001b[0;34m\u001b[0m\u001b[0m\n\u001b[0;32m--> 115\u001b[0;31m             \u001b[0mdst\u001b[0m \u001b[0;34m=\u001b[0m \u001b[0mdst\u001b[0m\u001b[0;34m[\u001b[0m\u001b[0;34m:\u001b[0m\u001b[0;36m5\u001b[0m\u001b[0;34m]\u001b[0m\u001b[0;34m\u001b[0m\u001b[0;34m\u001b[0m\u001b[0m\n\u001b[0m\u001b[1;32m    116\u001b[0m \u001b[0;34m\u001b[0m\u001b[0m\n\u001b[1;32m    117\u001b[0m         \u001b[0mresult\u001b[0m\u001b[0;34m.\u001b[0m\u001b[0mextend\u001b[0m\u001b[0;34m(\u001b[0m\u001b[0mdst\u001b[0m\u001b[0;34m)\u001b[0m\u001b[0;34m\u001b[0m\u001b[0;34m\u001b[0m\u001b[0m\n",
            "\u001b[0;31mTypeError\u001b[0m: 'map' object is not subscriptable"
          ]
        }
      ]
    },
    {
      "cell_type": "markdown",
      "source": [
        "### Encoding Decoding base64"
      ],
      "metadata": {
        "id": "xtbxmwO5AFU8"
      }
    },
    {
      "cell_type": "code",
      "source": [
        "import base64\n",
        "# Creating a string\n",
        "s = \"Shafekul Abid\"\n",
        "# Encoding the string into bytes\n",
        "b = s.encode(\"UTF-8\")\n",
        "# Base32 Encode the bytes\n",
        "e = base64.b32encode(b)\n",
        "# Decoding the Base32 bytes to string\n",
        "s1 = e.decode(\"UTF-8\")\n",
        "# Printing Base32 encoded string\n",
        "print(\"Base32 Encoded:\", s1)\n",
        "# Encoding the Base32 encoded string into bytes\n",
        "b1 = s1.encode(\"UTF-8\")\n",
        "# Decoding the Base32 bytes\n",
        "d = base64.b32decode(b1)\n",
        "# Decoding the bytes to string\n",
        "s2 = d.decode(\"UTF-8\")\n",
        "print(s2)"
      ],
      "metadata": {
        "id": "17JZRuSb75C6",
        "colab": {
          "base_uri": "https://localhost:8080/"
        },
        "outputId": "f6720fbc-35c6-4b42-e3ff-2c0c7a427650"
      },
      "execution_count": null,
      "outputs": [
        {
          "output_type": "stream",
          "name": "stdout",
          "text": [
            "Base32 Encoded: KNUGCZTFNN2WYICBMJUWI===\n",
            "Shafekul Abid\n"
          ]
        }
      ]
    },
    {
      "cell_type": "code",
      "source": [
        ""
      ],
      "metadata": {
        "id": "1BFMAZhjAMwQ"
      },
      "execution_count": null,
      "outputs": []
    }
  ]
}