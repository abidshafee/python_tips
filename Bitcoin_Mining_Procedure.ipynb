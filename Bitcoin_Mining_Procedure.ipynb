{
  "nbformat": 4,
  "nbformat_minor": 0,
  "metadata": {
    "colab": {
      "name": "Bitcoin Mining Procedure.ipynb",
      "provenance": [],
      "collapsed_sections": [],
      "authorship_tag": "ABX9TyOMnlfFOGm7TPXoop+kg0p9",
      "include_colab_link": true
    },
    "kernelspec": {
      "name": "python3",
      "display_name": "Python 3"
    },
    "language_info": {
      "name": "python"
    }
  },
  "cells": [
    {
      "cell_type": "markdown",
      "metadata": {
        "id": "view-in-github",
        "colab_type": "text"
      },
      "source": [
        "<a href=\"https://colab.research.google.com/github/abidshafee/python_tips/blob/main/Bitcoin_Mining_Procedure.ipynb\" target=\"_parent\"><img src=\"https://colab.research.google.com/assets/colab-badge.svg\" alt=\"Open In Colab\"/></a>"
      ]
    },
    {
      "cell_type": "markdown",
      "metadata": {
        "id": "8PnJOVyVgFLW"
      },
      "source": [
        "Importing SHA256 function. It is a cryptographic hash function. The function accepts any length of string and convert into hash value."
      ]
    },
    {
      "cell_type": "code",
      "metadata": {
        "id": "ak9M9BvWeTwn"
      },
      "source": [
        "from hashlib import sha256\n",
        "NONCE_MAX = 10000000000000000000 #number of time the MINE() function run to find specific hash.\n",
        "# Once the hash is found the loop will stop, and return the Hash value."
      ],
      "execution_count": 1,
      "outputs": []
    },
    {
      "cell_type": "markdown",
      "metadata": {
        "id": "cQm61Yxcguhs"
      },
      "source": [
        "WE MUST NEED TO ENCODE OBJECT BEFORE PASSING THROUGH THE FUNCTION"
      ]
    },
    {
      "cell_type": "code",
      "metadata": {
        "colab": {
          "base_uri": "https://localhost:8080/"
        },
        "id": "3QGEZOSRe0Th",
        "outputId": "6e709f3e-a451-4d02-a922-844b8f9f6274"
      },
      "source": [
        "hash_value = sha256('Abid'.encode('ascii'))\n",
        "hash_value = hash_value.hexdigest()\n",
        "print(f'Hash Value of String \"Abid\" is: {hash_value}')"
      ],
      "execution_count": null,
      "outputs": [
        {
          "output_type": "stream",
          "text": [
            "Hash Value of String \"Abid\" is: 8f255c2a72f56f3bb0511730f9aa3ddb0b648329ab979d532943d6c37c75b04d\n"
          ],
          "name": "stdout"
        }
      ]
    },
    {
      "cell_type": "markdown",
      "metadata": {
        "id": "Uq9PlfhvJure"
      },
      "source": [
        "### SHA256 Function()\n",
        "Putting All this into function"
      ]
    },
    {
      "cell_type": "code",
      "metadata": {
        "id": "b1o91gMxgqYC"
      },
      "source": [
        "def SHA256(st):\n",
        "  encoded_st = sha256(st.encode('ascii'))\n",
        "  hash_value = encoded_st.hexdigest()\n",
        "  return hash_value"
      ],
      "execution_count": 2,
      "outputs": []
    },
    {
      "cell_type": "code",
      "metadata": {
        "colab": {
          "base_uri": "https://localhost:8080/",
          "height": 35
        },
        "id": "twlqg-AIJgto",
        "outputId": "fd099ed9-4df8-4781-8d67-6e9c7454a727"
      },
      "source": [
        "SHA256(\"md shafekul abid\")"
      ],
      "execution_count": null,
      "outputs": [
        {
          "output_type": "execute_result",
          "data": {
            "application/vnd.google.colaboratory.intrinsic+json": {
              "type": "string"
            },
            "text/plain": [
              "'26cbcfddf8140b924924b504738ea30efd2fb2def4e3fd6faff044015eec2fb8'"
            ]
          },
          "metadata": {
            "tags": []
          },
          "execution_count": 20
        }
      ]
    },
    {
      "cell_type": "markdown",
      "metadata": {
        "id": "vJsmf47dAhlk"
      },
      "source": [
        "It is a 64 bit Hex value. Each hex digit is 4 bit long. So the hole hash value is 256 bit long."
      ]
    },
    {
      "cell_type": "markdown",
      "metadata": {
        "id": "afonC5xSDXRc"
      },
      "source": [
        "### Bitcoin Ledger - Single Block (Node)"
      ]
    },
    {
      "cell_type": "markdown",
      "metadata": {
        "id": "akpBZiaoLops"
      },
      "source": [
        "Node = \n",
        "\n",
        "          '''\n",
        "          block_no: 50076948790007216\n",
        "\n",
        "          Abid -> Dipok -> 50,\n",
        "          Dipok -> Rasib -> 30,\n",
        "          Rasib -> Hossain -> 15\n",
        "\n",
        "          prev_hash: 26cbcfddf8140b924924b504738ea30efd2fb2def4e3fd6faff044015eec2fb8\n",
        "\n",
        "          nonce = NONCE_MAX\n",
        "          '''\n"
      ]
    },
    {
      "cell_type": "code",
      "metadata": {
        "id": "XmGDLSWpJoLo"
      },
      "source": [
        "record1 = ''' \n",
        "          Abid -> Dipok -> 50,\n",
        "          Dipok -> Rasib -> 30,\n",
        "          Rasib -> Hossain -> 15,\n",
        "          Hossain -> Ahmed -> 12\n",
        "          '''\n",
        "          # in real life transaction is more complex"
      ],
      "execution_count": 7,
      "outputs": []
    },
    {
      "cell_type": "code",
      "metadata": {
        "colab": {
          "base_uri": "https://localhost:8080/",
          "height": 35
        },
        "id": "gU7WNmE3FtLh",
        "outputId": "43a4d7e7-d78d-435f-c19b-756334a78c7b"
      },
      "source": [
        "SHA256(record1)"
      ],
      "execution_count": 8,
      "outputs": [
        {
          "output_type": "execute_result",
          "data": {
            "application/vnd.google.colaboratory.intrinsic+json": {
              "type": "string"
            },
            "text/plain": [
              "'3ca0795cb4ec07433aa2eb8f31f8803565c1a8a5253699ca21f0cf2d391d10f4'"
            ]
          },
          "metadata": {
            "tags": []
          },
          "execution_count": 8
        }
      ]
    },
    {
      "cell_type": "markdown",
      "metadata": {
        "id": "FfkRRiQIO7Oe"
      },
      "source": [
        "### Mine Function\n",
        "A node or block consists of: **block no + transaction record + previous hash + nonce**"
      ]
    },
    {
      "cell_type": "code",
      "metadata": {
        "id": "lrO8DAsBGF8i"
      },
      "source": [
        "def MINE(block_no, records, prev_hash, prefix_zeros):\n",
        "  prefix_str = str(0)*prefix_zeros\n",
        "  for nonce in range(NONCE_MAX):\n",
        "    node = str(block_no)+ records + prev_hash + str(nonce) #NODE\n",
        "    new_hash = SHA256(node)\n",
        "    if new_hash.startswith(prefix_str):\n",
        "      print(f'Nonce Found {nonce}! Bitcoin Mining Completed!')\n",
        "      return new_hash\n",
        "  raise BaseException(f'Couldn\\'t find right Hash after trying {NONCE_MAX} times!')"
      ],
      "execution_count": 28,
      "outputs": []
    },
    {
      "cell_type": "code",
      "metadata": {
        "colab": {
          "base_uri": "https://localhost:8080/",
          "height": 52
        },
        "id": "TNRLXNiXJEid",
        "outputId": "e40f87c4-df4f-42f4-b038-3a40529f416d"
      },
      "source": [
        "zeros = 3\n",
        "MINE(50076948790007216, record1, '3ca0795cb4ec07433aa2eb8f31f8803565c1a8a5253699ca21f0cf2d391d10f4', zeros)"
      ],
      "execution_count": 29,
      "outputs": [
        {
          "output_type": "stream",
          "text": [
            "Nonce Found 3604! Bitcoin Mining Completed!\n"
          ],
          "name": "stdout"
        },
        {
          "output_type": "execute_result",
          "data": {
            "application/vnd.google.colaboratory.intrinsic+json": {
              "type": "string"
            },
            "text/plain": [
              "'000cb060c51721e17452cd2491cbde74f41bf2e55dab42c00a7bfeb6fb9f5d0e'"
            ]
          },
          "metadata": {
            "tags": []
          },
          "execution_count": 29
        }
      ]
    },
    {
      "cell_type": "code",
      "metadata": {
        "colab": {
          "base_uri": "https://localhost:8080/",
          "height": 35
        },
        "id": "ft3WQtrFP1w6",
        "outputId": "f6ab608e-b24b-4366-f79e-4c53958b40dd"
      },
      "source": [
        "prefix_str = str(0)*3\n",
        "prefix_str"
      ],
      "execution_count": 23,
      "outputs": [
        {
          "output_type": "execute_result",
          "data": {
            "application/vnd.google.colaboratory.intrinsic+json": {
              "type": "string"
            },
            "text/plain": [
              "'000'"
            ]
          },
          "metadata": {
            "tags": []
          },
          "execution_count": 23
        }
      ]
    },
    {
      "cell_type": "code",
      "metadata": {
        "id": "og0ZfqOJSSr3"
      },
      "source": [
        ""
      ],
      "execution_count": null,
      "outputs": []
    }
  ]
}