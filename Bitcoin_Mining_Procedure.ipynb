{
  "nbformat": 4,
  "nbformat_minor": 0,
  "metadata": {
    "colab": {
      "name": "Bitcoin Mining Procedure.ipynb",
      "provenance": [],
      "authorship_tag": "ABX9TyOCbwnogGGzOm26TRxoJ2Si",
      "include_colab_link": true
    },
    "kernelspec": {
      "name": "python3",
      "display_name": "Python 3"
    },
    "language_info": {
      "name": "python"
    }
  },
  "cells": [
    {
      "cell_type": "markdown",
      "metadata": {
        "id": "view-in-github",
        "colab_type": "text"
      },
      "source": [
        "<a href=\"https://colab.research.google.com/github/abidshafee/python_tips/blob/main/Bitcoin_Mining_Procedure.ipynb\" target=\"_parent\"><img src=\"https://colab.research.google.com/assets/colab-badge.svg\" alt=\"Open In Colab\"/></a>"
      ]
    },
    {
      "cell_type": "markdown",
      "metadata": {
        "id": "8PnJOVyVgFLW"
      },
      "source": [
        "Importing SHA256 function. This function accept any length of string and convert into sha value"
      ]
    },
    {
      "cell_type": "code",
      "metadata": {
        "id": "ak9M9BvWeTwn"
      },
      "source": [
        "from hashlib import sha256"
      ],
      "execution_count": 1,
      "outputs": []
    },
    {
      "cell_type": "markdown",
      "metadata": {
        "id": "cQm61Yxcguhs"
      },
      "source": [
        "WE MUST NEED TO ENCODE OBJECT BEFORE PASSING THROUGH THE FUNCTION"
      ]
    },
    {
      "cell_type": "code",
      "metadata": {
        "colab": {
          "base_uri": "https://localhost:8080/"
        },
        "id": "3QGEZOSRe0Th",
        "outputId": "6e709f3e-a451-4d02-a922-844b8f9f6274"
      },
      "source": [
        "hash_value = sha256('Abid'.encode('ascii'))\n",
        "hash_value = hash_value.hexdigest()\n",
        "print(f'Hash Value of String \"Abid\" is: {hash_value}')"
      ],
      "execution_count": 5,
      "outputs": [
        {
          "output_type": "stream",
          "text": [
            "Hash Value of String \"Abid\" is: 8f255c2a72f56f3bb0511730f9aa3ddb0b648329ab979d532943d6c37c75b04d\n"
          ],
          "name": "stdout"
        }
      ]
    },
    {
      "cell_type": "code",
      "metadata": {
        "id": "b1o91gMxgqYC"
      },
      "source": [
        ""
      ],
      "execution_count": null,
      "outputs": []
    }
  ]
}