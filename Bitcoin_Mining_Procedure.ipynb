{
  "nbformat": 4,
  "nbformat_minor": 0,
  "metadata": {
    "colab": {
      "name": "Bitcoin Mining Procedure.ipynb",
      "provenance": [],
      "collapsed_sections": [],
      "authorship_tag": "ABX9TyPGIAdD5r0uhCb2yMGI7KYy",
      "include_colab_link": true
    },
    "kernelspec": {
      "name": "python3",
      "display_name": "Python 3"
    },
    "language_info": {
      "name": "python"
    }
  },
  "cells": [
    {
      "cell_type": "markdown",
      "metadata": {
        "id": "view-in-github",
        "colab_type": "text"
      },
      "source": [
        "<a href=\"https://colab.research.google.com/github/abidshafee/python_tips/blob/main/Bitcoin_Mining_Procedure.ipynb\" target=\"_parent\"><img src=\"https://colab.research.google.com/assets/colab-badge.svg\" alt=\"Open In Colab\"/></a>"
      ]
    },
    {
      "cell_type": "markdown",
      "metadata": {
        "id": "8PnJOVyVgFLW"
      },
      "source": [
        "Importing SHA256 function. It is a cryptographic hash function. The function accepts any length of string and convert into hash value."
      ]
    },
    {
      "cell_type": "code",
      "metadata": {
        "id": "ak9M9BvWeTwn"
      },
      "source": [
        "from hashlib import sha256\n",
        "NONCE_MAX = 10000000000000000000"
      ],
      "execution_count": 14,
      "outputs": []
    },
    {
      "cell_type": "markdown",
      "metadata": {
        "id": "cQm61Yxcguhs"
      },
      "source": [
        "WE MUST NEED TO ENCODE OBJECT BEFORE PASSING THROUGH THE FUNCTION"
      ]
    },
    {
      "cell_type": "code",
      "metadata": {
        "colab": {
          "base_uri": "https://localhost:8080/"
        },
        "id": "3QGEZOSRe0Th",
        "outputId": "6e709f3e-a451-4d02-a922-844b8f9f6274"
      },
      "source": [
        "hash_value = sha256('Abid'.encode('ascii'))\n",
        "hash_value = hash_value.hexdigest()\n",
        "print(f'Hash Value of String \"Abid\" is: {hash_value}')"
      ],
      "execution_count": null,
      "outputs": [
        {
          "output_type": "stream",
          "text": [
            "Hash Value of String \"Abid\" is: 8f255c2a72f56f3bb0511730f9aa3ddb0b648329ab979d532943d6c37c75b04d\n"
          ],
          "name": "stdout"
        }
      ]
    },
    {
      "cell_type": "markdown",
      "metadata": {
        "id": "Uq9PlfhvJure"
      },
      "source": [
        "### SHA256 Function()\n",
        "Putting All this into function"
      ]
    },
    {
      "cell_type": "code",
      "metadata": {
        "id": "b1o91gMxgqYC"
      },
      "source": [
        "def SHA256(st):\n",
        "  encoded_st = sha256(st.encode('ascii'))\n",
        "  hash_value = encoded_st.hexdigest()\n",
        "  return hash_value"
      ],
      "execution_count": 9,
      "outputs": []
    },
    {
      "cell_type": "code",
      "metadata": {
        "colab": {
          "base_uri": "https://localhost:8080/",
          "height": 35
        },
        "id": "twlqg-AIJgto",
        "outputId": "fd099ed9-4df8-4781-8d67-6e9c7454a727"
      },
      "source": [
        "SHA256(\"md shafekul abid\")"
      ],
      "execution_count": 20,
      "outputs": [
        {
          "output_type": "execute_result",
          "data": {
            "application/vnd.google.colaboratory.intrinsic+json": {
              "type": "string"
            },
            "text/plain": [
              "'26cbcfddf8140b924924b504738ea30efd2fb2def4e3fd6faff044015eec2fb8'"
            ]
          },
          "metadata": {
            "tags": []
          },
          "execution_count": 20
        }
      ]
    },
    {
      "cell_type": "markdown",
      "metadata": {
        "id": "vJsmf47dAhlk"
      },
      "source": [
        "It is a 64 bit Hex value. Each hex digit is 4 bit long. So the hole hash value is 256 bit long."
      ]
    },
    {
      "cell_type": "markdown",
      "metadata": {
        "id": "afonC5xSDXRc"
      },
      "source": [
        "### Bitcoin Ledger - Single Block (Node)"
      ]
    },
    {
      "cell_type": "code",
      "metadata": {
        "id": "XmGDLSWpJoLo"
      },
      "source": [
        "record1 = '''\n",
        "          Block_no: 50076948790007216\n",
        "\n",
        "          Abid -> Dipok -> 50,\n",
        "          Dipok -> Rasib -> 30,\n",
        "          Rasib -> Hossain -> 15\n",
        "\n",
        "          Previous_hash: 26cbcfddf8140b924924b504738ea30efd2fb2def4e3fd6faff044015eec2fb8\n",
        "\n",
        "          Nonce = NONCE_MAX\n",
        "          '''"
      ],
      "execution_count": 18,
      "outputs": []
    },
    {
      "cell_type": "code",
      "metadata": {
        "colab": {
          "base_uri": "https://localhost:8080/",
          "height": 35
        },
        "id": "gU7WNmE3FtLh",
        "outputId": "df9787e2-c087-45a4-d226-a405a4a67ec8"
      },
      "source": [
        "SHA256(record1)"
      ],
      "execution_count": 19,
      "outputs": [
        {
          "output_type": "execute_result",
          "data": {
            "application/vnd.google.colaboratory.intrinsic+json": {
              "type": "string"
            },
            "text/plain": [
              "'7c169f9cb195418d72f304bea0bc35acfb8cc868c384f820c505df6c8c41348d'"
            ]
          },
          "metadata": {
            "tags": []
          },
          "execution_count": 19
        }
      ]
    },
    {
      "cell_type": "markdown",
      "metadata": {
        "id": "FfkRRiQIO7Oe"
      },
      "source": [
        "### Mine Function"
      ]
    },
    {
      "cell_type": "code",
      "metadata": {
        "id": "lrO8DAsBGF8i"
      },
      "source": [
        "def Mine(block_no, record1, previous_hash, prefix_zeros):\n",
        "  prefix_str = 0*prefix_zeros\n",
        "  "
      ],
      "execution_count": null,
      "outputs": []
    }
  ]
}