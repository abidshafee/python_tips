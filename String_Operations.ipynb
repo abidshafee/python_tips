{
  "nbformat": 4,
  "nbformat_minor": 0,
  "metadata": {
    "colab": {
      "name": "String Operations.ipynb",
      "provenance": [],
      "collapsed_sections": [],
      "authorship_tag": "ABX9TyO9rTNQKl7YwYN27lo3GqmK",
      "include_colab_link": true
    },
    "kernelspec": {
      "name": "python3",
      "display_name": "Python 3"
    },
    "language_info": {
      "name": "python"
    }
  },
  "cells": [
    {
      "cell_type": "markdown",
      "metadata": {
        "id": "view-in-github",
        "colab_type": "text"
      },
      "source": [
        "<a href=\"https://colab.research.google.com/github/abidshafee/python_tips/blob/main/String_Operations.ipynb\" target=\"_parent\"><img src=\"https://colab.research.google.com/assets/colab-badge.svg\" alt=\"Open In Colab\"/></a>"
      ]
    },
    {
      "cell_type": "code",
      "metadata": {
        "id": "fsHZIhlcTOrM"
      },
      "source": [
        "text = \"A CS School Blog article\""
      ],
      "execution_count": 2,
      "outputs": []
    },
    {
      "cell_type": "code",
      "metadata": {
        "colab": {
          "base_uri": "https://localhost:8080/"
        },
        "id": "mXO0RzouTXl1",
        "outputId": "faa8615b-0741-44e2-bd77-ca10cc1713e1"
      },
      "source": [
        "print(len(text))"
      ],
      "execution_count": 3,
      "outputs": [
        {
          "output_type": "stream",
          "text": [
            "24\n"
          ],
          "name": "stdout"
        }
      ]
    },
    {
      "cell_type": "markdown",
      "metadata": {
        "id": "-slygi8XVXEe"
      },
      "source": [
        "### **lower() and upper() and capitalize() method**"
      ]
    },
    {
      "cell_type": "code",
      "metadata": {
        "colab": {
          "base_uri": "https://localhost:8080/"
        },
        "id": "OIMib0ecVLIQ",
        "outputId": "97047da8-c432-4424-bc0d-a4a3ffffbea3"
      },
      "source": [
        "print(text.lower())"
      ],
      "execution_count": 4,
      "outputs": [
        {
          "output_type": "stream",
          "text": [
            "a cs school blog article\n"
          ],
          "name": "stdout"
        }
      ]
    },
    {
      "cell_type": "code",
      "metadata": {
        "colab": {
          "base_uri": "https://localhost:8080/"
        },
        "id": "-7Iit6l0VPH9",
        "outputId": "8d619214-1edf-4c59-8bca-c97ed370e925"
      },
      "source": [
        "print(text.upper())"
      ],
      "execution_count": 5,
      "outputs": [
        {
          "output_type": "stream",
          "text": [
            "A CS SCHOOL BLOG ARTICLE\n"
          ],
          "name": "stdout"
        }
      ]
    },
    {
      "cell_type": "code",
      "metadata": {
        "colab": {
          "base_uri": "https://localhost:8080/"
        },
        "id": "I9RoLvh_TkV_",
        "outputId": "9e86da00-ae35-4769-b89f-1c5fce2413ae"
      },
      "source": [
        "print(text.capitalize())"
      ],
      "execution_count": 6,
      "outputs": [
        {
          "output_type": "stream",
          "text": [
            "A cs school blog article\n"
          ],
          "name": "stdout"
        }
      ]
    },
    {
      "cell_type": "markdown",
      "metadata": {
        "id": "dklj2P4_bew6"
      },
      "source": [
        "### **Splitting String**"
      ]
    },
    {
      "cell_type": "code",
      "metadata": {
        "colab": {
          "base_uri": "https://localhost:8080/"
        },
        "id": "EmfngO_dEyVr",
        "outputId": "fc5c07b8-4309-492c-985a-49b5c59503c0"
      },
      "source": [
        "list_str = text.split()\n",
        "print(list_str)\n",
        "print(type(list_str))"
      ],
      "execution_count": 7,
      "outputs": [
        {
          "output_type": "stream",
          "text": [
            "['A', 'CS', 'School', 'Blog', 'article']\n",
            "<class 'list'>\n"
          ],
          "name": "stdout"
        }
      ]
    },
    {
      "cell_type": "code",
      "metadata": {
        "colab": {
          "base_uri": "https://localhost:8080/"
        },
        "id": "cb2WbWcTbkdh",
        "outputId": "83ff294a-445f-41de-e6de-bd472db33c69"
      },
      "source": [
        "print(text.split(sep=' ', maxsplit=2))"
      ],
      "execution_count": 8,
      "outputs": [
        {
          "output_type": "stream",
          "text": [
            "['A', 'CS', 'School Blog article']\n"
          ],
          "name": "stdout"
        }
      ]
    },
    {
      "cell_type": "code",
      "metadata": {
        "colab": {
          "base_uri": "https://localhost:8080/"
        },
        "id": "G_2l2dCLdGks",
        "outputId": "b1dc2aeb-c31a-4e35-8a30-b3a644716284"
      },
      "source": [
        "print(text.rsplit(sep=' ', maxsplit=2))"
      ],
      "execution_count": 9,
      "outputs": [
        {
          "output_type": "stream",
          "text": [
            "['A CS School', 'Blog', 'article']\n"
          ],
          "name": "stdout"
        }
      ]
    },
    {
      "cell_type": "markdown",
      "metadata": {
        "id": "k0nuEciQmETE"
      },
      "source": [
        "### **Split Line**"
      ]
    },
    {
      "cell_type": "code",
      "metadata": {
        "colab": {
          "base_uri": "https://localhost:8080/"
        },
        "id": "6Hodcm3jmIc6",
        "outputId": "7d7336a7-6697-447d-d5af-0b6d8483b8dd"
      },
      "source": [
        "text3 = \"This is a\\nCS School blog\\nArticle\"\n",
        "print(text3)"
      ],
      "execution_count": 23,
      "outputs": [
        {
          "output_type": "stream",
          "text": [
            "This is a\n",
            "CS School blog\n",
            "Article\n"
          ],
          "name": "stdout"
        }
      ]
    },
    {
      "cell_type": "code",
      "metadata": {
        "colab": {
          "base_uri": "https://localhost:8080/"
        },
        "id": "khqQYaA0msN6",
        "outputId": "a358d213-2565-44b8-d422-6f082838a62b"
      },
      "source": [
        "print(text3.splitlines())"
      ],
      "execution_count": 22,
      "outputs": [
        {
          "output_type": "stream",
          "text": [
            "['This is a', 'CS School blog', 'Article']\n"
          ],
          "name": "stdout"
        }
      ]
    },
    {
      "cell_type": "markdown",
      "metadata": {
        "id": "bLZJVJihFUy4"
      },
      "source": [
        "### **Slicing | String Index**"
      ]
    },
    {
      "cell_type": "code",
      "metadata": {
        "colab": {
          "base_uri": "https://localhost:8080/"
        },
        "id": "S-VlbPUNGMnY",
        "outputId": "3e550050-63f2-432c-8a2b-e06771da31ab"
      },
      "source": [
        "# Accessing index\n",
        "print(list_str[0]) # first list item\n",
        "print(list_str[-1]) #last item"
      ],
      "execution_count": 10,
      "outputs": [
        {
          "output_type": "stream",
          "text": [
            "A\n",
            "article\n"
          ],
          "name": "stdout"
        }
      ]
    },
    {
      "cell_type": "code",
      "metadata": {
        "colab": {
          "base_uri": "https://localhost:8080/"
        },
        "id": "04vqpWv-GYOA",
        "outputId": "a1ea3a1d-675c-4fa5-ecfa-db03fd18278a"
      },
      "source": [
        "#slicing\n",
        "print(list_str[0:2]) #slicing list\n",
        "print(text[0:3]) # slicing string"
      ],
      "execution_count": 11,
      "outputs": [
        {
          "output_type": "stream",
          "text": [
            "['A', 'CS']\n",
            "A C\n"
          ],
          "name": "stdout"
        }
      ]
    },
    {
      "cell_type": "markdown",
      "metadata": {
        "id": "2gJ1b7OXWos6"
      },
      "source": [
        "### **count() Method [case sensitive]**"
      ]
    },
    {
      "cell_type": "code",
      "metadata": {
        "colab": {
          "base_uri": "https://localhost:8080/"
        },
        "id": "CftLDgmqUVvi",
        "outputId": "fbeff451-85c9-4c70-95c2-5b73f660f023"
      },
      "source": [
        "print(text.count('S'))"
      ],
      "execution_count": 12,
      "outputs": [
        {
          "output_type": "stream",
          "text": [
            "2\n"
          ],
          "name": "stdout"
        }
      ]
    },
    {
      "cell_type": "code",
      "metadata": {
        "colab": {
          "base_uri": "https://localhost:8080/"
        },
        "id": "F50X7tl7VjIW",
        "outputId": "cd523ebb-041a-4594-fde6-d85641ac0bf0"
      },
      "source": [
        "print(text.count('CS'))"
      ],
      "execution_count": 13,
      "outputs": [
        {
          "output_type": "stream",
          "text": [
            "1\n"
          ],
          "name": "stdout"
        }
      ]
    },
    {
      "cell_type": "markdown",
      "metadata": {
        "id": "Mar4FOS6LE91"
      },
      "source": [
        "### **Replace() Method**"
      ]
    },
    {
      "cell_type": "code",
      "metadata": {
        "id": "VhwdACfXXjc9",
        "colab": {
          "base_uri": "https://localhost:8080/",
          "height": 35
        },
        "outputId": "55f5fea5-1f02-4270-c7d6-5ed11ec992e7"
      },
      "source": [
        "text.replace('Blog', 'CompSci')"
      ],
      "execution_count": 14,
      "outputs": [
        {
          "output_type": "execute_result",
          "data": {
            "application/vnd.google.colaboratory.intrinsic+json": {
              "type": "string"
            },
            "text/plain": [
              "'A CS School CompSci article'"
            ]
          },
          "metadata": {
            "tags": []
          },
          "execution_count": 14
        }
      ]
    },
    {
      "cell_type": "code",
      "metadata": {
        "colab": {
          "base_uri": "https://localhost:8080/"
        },
        "id": "wtwE8W5jLZ5E",
        "outputId": "b6b67575-051b-457e-cf3f-6a3cdb8c6e9c"
      },
      "source": [
        "print(text)"
      ],
      "execution_count": 15,
      "outputs": [
        {
          "output_type": "stream",
          "text": [
            "A CS School Blog article\n"
          ],
          "name": "stdout"
        }
      ]
    },
    {
      "cell_type": "markdown",
      "metadata": {
        "id": "XJJGSyFLN6Z4"
      },
      "source": [
        "### **Strip() Method**"
      ]
    },
    {
      "cell_type": "code",
      "metadata": {
        "colab": {
          "base_uri": "https://localhost:8080/"
        },
        "id": "iU1JRGuxOZcb",
        "outputId": "2dcc84da-8484-4657-c5bb-25e5eb7bb082"
      },
      "source": [
        "text2 = ' ' + text + '' + '\\n'\n",
        "print(text2)"
      ],
      "execution_count": 16,
      "outputs": [
        {
          "output_type": "stream",
          "text": [
            " A CS School Blog article\n",
            "\n"
          ],
          "name": "stdout"
        }
      ]
    },
    {
      "cell_type": "code",
      "metadata": {
        "colab": {
          "base_uri": "https://localhost:8080/"
        },
        "id": "zsjfS7s0Lfpv",
        "outputId": "809f6175-1ba9-43d6-8de4-30093a7e9052"
      },
      "source": [
        "print(text2.rstrip())"
      ],
      "execution_count": 17,
      "outputs": [
        {
          "output_type": "stream",
          "text": [
            " A CS School Blog article\n"
          ],
          "name": "stdout"
        }
      ]
    },
    {
      "cell_type": "markdown",
      "metadata": {
        "id": "6vpPKFg7ip_F"
      },
      "source": [
        "### **Separator.join(iterable)**\n",
        "join returns a string after performing operation"
      ]
    },
    {
      "cell_type": "code",
      "metadata": {
        "id": "Il5j8mJGON1u",
        "colab": {
          "base_uri": "https://localhost:8080/"
        },
        "outputId": "0c5a7663-4bf0-46bf-b56b-2ee5c494fc30"
      },
      "source": [
        "list_str"
      ],
      "execution_count": 18,
      "outputs": [
        {
          "output_type": "execute_result",
          "data": {
            "text/plain": [
              "['A', 'CS', 'School', 'Blog', 'article']"
            ]
          },
          "metadata": {
            "tags": []
          },
          "execution_count": 18
        }
      ]
    },
    {
      "cell_type": "code",
      "metadata": {
        "colab": {
          "base_uri": "https://localhost:8080/"
        },
        "id": "aNBl_asdioHo",
        "outputId": "a7eaecbd-19b3-4907-89e2-e96cf39034be"
      },
      "source": [
        "# lets join on the list\n",
        "print(' '.join(list_str))"
      ],
      "execution_count": 20,
      "outputs": [
        {
          "output_type": "stream",
          "text": [
            "A CS School Blog article\n"
          ],
          "name": "stdout"
        }
      ]
    },
    {
      "cell_type": "code",
      "metadata": {
        "colab": {
          "base_uri": "https://localhost:8080/"
        },
        "id": "kj2vGBH-qGzm",
        "outputId": "e14665dc-ca6a-40df-f4ef-a2ea4e00a3b8"
      },
      "source": [
        "# Or,\n",
        "print(' + '.join(list_str))"
      ],
      "execution_count": 24,
      "outputs": [
        {
          "output_type": "stream",
          "text": [
            "A + CS + School + Blog + article\n"
          ],
          "name": "stdout"
        }
      ]
    },
    {
      "cell_type": "code",
      "metadata": {
        "id": "iZmwBhV9jW_P"
      },
      "source": [
        ""
      ],
      "execution_count": null,
      "outputs": []
    }
  ]
}