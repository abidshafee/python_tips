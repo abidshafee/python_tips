{
  "nbformat": 4,
  "nbformat_minor": 0,
  "metadata": {
    "colab": {
      "name": "String Operations.ipynb",
      "provenance": [],
      "collapsed_sections": [],
      "authorship_tag": "ABX9TyMqTebBwPEp87j8Z0cVuHvv",
      "include_colab_link": true
    },
    "kernelspec": {
      "name": "python3",
      "display_name": "Python 3"
    },
    "language_info": {
      "name": "python"
    }
  },
  "cells": [
    {
      "cell_type": "markdown",
      "metadata": {
        "id": "view-in-github",
        "colab_type": "text"
      },
      "source": [
        "<a href=\"https://colab.research.google.com/github/abidshafee/python_tips/blob/main/String_Operations.ipynb\" target=\"_parent\"><img src=\"https://colab.research.google.com/assets/colab-badge.svg\" alt=\"Open In Colab\"/></a>"
      ]
    },
    {
      "cell_type": "code",
      "metadata": {
        "id": "fsHZIhlcTOrM"
      },
      "source": [
        "text = \"A CS School Blog article\""
      ],
      "execution_count": 1,
      "outputs": []
    },
    {
      "cell_type": "code",
      "metadata": {
        "colab": {
          "base_uri": "https://localhost:8080/"
        },
        "id": "mXO0RzouTXl1",
        "outputId": "b813e715-26b7-4669-9bed-0bc6c1f43d62"
      },
      "source": [
        "print(len(text))"
      ],
      "execution_count": 2,
      "outputs": [
        {
          "output_type": "stream",
          "text": [
            "24\n"
          ],
          "name": "stdout"
        }
      ]
    },
    {
      "cell_type": "markdown",
      "metadata": {
        "id": "-slygi8XVXEe"
      },
      "source": [
        "### **lower() and upper() and capitalize() method**"
      ]
    },
    {
      "cell_type": "code",
      "metadata": {
        "colab": {
          "base_uri": "https://localhost:8080/"
        },
        "id": "OIMib0ecVLIQ",
        "outputId": "c329b8fd-63a6-4147-8e67-6f6794354f70"
      },
      "source": [
        "print(text.lower())"
      ],
      "execution_count": 3,
      "outputs": [
        {
          "output_type": "stream",
          "text": [
            "a cs school blog article\n"
          ],
          "name": "stdout"
        }
      ]
    },
    {
      "cell_type": "code",
      "metadata": {
        "colab": {
          "base_uri": "https://localhost:8080/"
        },
        "id": "-7Iit6l0VPH9",
        "outputId": "eb1abec6-915b-4d68-f060-148386d2906f"
      },
      "source": [
        "print(text.upper())"
      ],
      "execution_count": 4,
      "outputs": [
        {
          "output_type": "stream",
          "text": [
            "A CS SCHOOL BLOG ARTICLE\n"
          ],
          "name": "stdout"
        }
      ]
    },
    {
      "cell_type": "code",
      "metadata": {
        "colab": {
          "base_uri": "https://localhost:8080/"
        },
        "id": "I9RoLvh_TkV_",
        "outputId": "6fc9457e-8e67-4477-d615-f31d4639cdc9"
      },
      "source": [
        "print(text.capitalize())"
      ],
      "execution_count": 5,
      "outputs": [
        {
          "output_type": "stream",
          "text": [
            "A cs school blog article\n"
          ],
          "name": "stdout"
        }
      ]
    },
    {
      "cell_type": "markdown",
      "metadata": {
        "id": "dklj2P4_bew6"
      },
      "source": [
        "### **Splitting String**"
      ]
    },
    {
      "cell_type": "code",
      "metadata": {
        "colab": {
          "base_uri": "https://localhost:8080/"
        },
        "id": "EmfngO_dEyVr",
        "outputId": "a1880a05-9220-4196-8a80-bb6ca327b55b"
      },
      "source": [
        "list_str = text.split()\n",
        "print(list_str)\n",
        "print(type(list_str))"
      ],
      "execution_count": 6,
      "outputs": [
        {
          "output_type": "stream",
          "text": [
            "['A', 'CS', 'School', 'Blog', 'article']\n",
            "<class 'list'>\n"
          ],
          "name": "stdout"
        }
      ]
    },
    {
      "cell_type": "code",
      "metadata": {
        "colab": {
          "base_uri": "https://localhost:8080/"
        },
        "id": "cb2WbWcTbkdh",
        "outputId": "99a0abb1-c3bf-4e95-e678-3da330f6a2e7"
      },
      "source": [
        "print(text.split(sep=' ', maxsplit=2))"
      ],
      "execution_count": 7,
      "outputs": [
        {
          "output_type": "stream",
          "text": [
            "['A', 'CS', 'School Blog article']\n"
          ],
          "name": "stdout"
        }
      ]
    },
    {
      "cell_type": "code",
      "metadata": {
        "colab": {
          "base_uri": "https://localhost:8080/"
        },
        "id": "G_2l2dCLdGks",
        "outputId": "c6fcc651-1e80-4116-a8c5-e2318d5eb674"
      },
      "source": [
        "print(text.rsplit(sep=' ', maxsplit=2))"
      ],
      "execution_count": 8,
      "outputs": [
        {
          "output_type": "stream",
          "text": [
            "['A CS School', 'Blog', 'article']\n"
          ],
          "name": "stdout"
        }
      ]
    },
    {
      "cell_type": "markdown",
      "metadata": {
        "id": "k0nuEciQmETE"
      },
      "source": [
        "### **Split Line**"
      ]
    },
    {
      "cell_type": "code",
      "metadata": {
        "colab": {
          "base_uri": "https://localhost:8080/"
        },
        "id": "6Hodcm3jmIc6",
        "outputId": "5fee831d-a208-4b76-aad5-4d55bae581f3"
      },
      "source": [
        "text3 = \"This is a\\nCS School blog\\nArticle\"\n",
        "print(text3)"
      ],
      "execution_count": 9,
      "outputs": [
        {
          "output_type": "stream",
          "text": [
            "This is a\n",
            "CS School blog\n",
            "Article\n"
          ],
          "name": "stdout"
        }
      ]
    },
    {
      "cell_type": "code",
      "metadata": {
        "colab": {
          "base_uri": "https://localhost:8080/"
        },
        "id": "khqQYaA0msN6",
        "outputId": "4ac59e9b-a32b-4494-f53f-c3359580ca2e"
      },
      "source": [
        "print(text3.splitlines())"
      ],
      "execution_count": 10,
      "outputs": [
        {
          "output_type": "stream",
          "text": [
            "['This is a', 'CS School blog', 'Article']\n"
          ],
          "name": "stdout"
        }
      ]
    },
    {
      "cell_type": "markdown",
      "metadata": {
        "id": "bLZJVJihFUy4"
      },
      "source": [
        "### **Slicing | String Index**"
      ]
    },
    {
      "cell_type": "code",
      "metadata": {
        "colab": {
          "base_uri": "https://localhost:8080/"
        },
        "id": "S-VlbPUNGMnY",
        "outputId": "71c81f50-1a7b-47c3-8a85-497be77cfa21"
      },
      "source": [
        "# Accessing index\n",
        "print(list_str[0]) # first list item\n",
        "print(list_str[-1]) #last item"
      ],
      "execution_count": 11,
      "outputs": [
        {
          "output_type": "stream",
          "text": [
            "A\n",
            "article\n"
          ],
          "name": "stdout"
        }
      ]
    },
    {
      "cell_type": "code",
      "metadata": {
        "colab": {
          "base_uri": "https://localhost:8080/"
        },
        "id": "04vqpWv-GYOA",
        "outputId": "82d8ad6e-568a-4c80-c525-3a2d0e86efe1"
      },
      "source": [
        "#slicing\n",
        "print(list_str[0:2]) #slicing list\n",
        "print(text[0:3]) # slicing string"
      ],
      "execution_count": 12,
      "outputs": [
        {
          "output_type": "stream",
          "text": [
            "['A', 'CS']\n",
            "A C\n"
          ],
          "name": "stdout"
        }
      ]
    },
    {
      "cell_type": "markdown",
      "metadata": {
        "id": "2gJ1b7OXWos6"
      },
      "source": [
        "### **count() Method [case sensitive]**"
      ]
    },
    {
      "cell_type": "code",
      "metadata": {
        "colab": {
          "base_uri": "https://localhost:8080/"
        },
        "id": "CftLDgmqUVvi",
        "outputId": "535244af-804a-4e3b-ea42-1e047d671712"
      },
      "source": [
        "print(text.count('S'))"
      ],
      "execution_count": 13,
      "outputs": [
        {
          "output_type": "stream",
          "text": [
            "2\n"
          ],
          "name": "stdout"
        }
      ]
    },
    {
      "cell_type": "code",
      "metadata": {
        "colab": {
          "base_uri": "https://localhost:8080/"
        },
        "id": "F50X7tl7VjIW",
        "outputId": "72ae0275-4525-4a6c-dcf0-7aea34cd6511"
      },
      "source": [
        "print(text.count('CS'))"
      ],
      "execution_count": 14,
      "outputs": [
        {
          "output_type": "stream",
          "text": [
            "1\n"
          ],
          "name": "stdout"
        }
      ]
    },
    {
      "cell_type": "markdown",
      "metadata": {
        "id": "Mar4FOS6LE91"
      },
      "source": [
        "### **Replace() Method**"
      ]
    },
    {
      "cell_type": "code",
      "metadata": {
        "id": "VhwdACfXXjc9",
        "colab": {
          "base_uri": "https://localhost:8080/",
          "height": 35
        },
        "outputId": "817dafc0-cac5-4ba5-b31b-c907893d7ed4"
      },
      "source": [
        "text.replace('Blog', 'CompSci')"
      ],
      "execution_count": 15,
      "outputs": [
        {
          "output_type": "execute_result",
          "data": {
            "application/vnd.google.colaboratory.intrinsic+json": {
              "type": "string"
            },
            "text/plain": [
              "'A CS School CompSci article'"
            ]
          },
          "metadata": {
            "tags": []
          },
          "execution_count": 15
        }
      ]
    },
    {
      "cell_type": "code",
      "metadata": {
        "colab": {
          "base_uri": "https://localhost:8080/"
        },
        "id": "wtwE8W5jLZ5E",
        "outputId": "2fb99f76-601f-4799-d340-7f912fda6447"
      },
      "source": [
        "print(text)"
      ],
      "execution_count": 16,
      "outputs": [
        {
          "output_type": "stream",
          "text": [
            "A CS School Blog article\n"
          ],
          "name": "stdout"
        }
      ]
    },
    {
      "cell_type": "markdown",
      "metadata": {
        "id": "XJJGSyFLN6Z4"
      },
      "source": [
        "### **Strip() Method**"
      ]
    },
    {
      "cell_type": "code",
      "metadata": {
        "colab": {
          "base_uri": "https://localhost:8080/"
        },
        "id": "iU1JRGuxOZcb",
        "outputId": "a596f3db-5b32-4cb6-c9ac-f334803ccd3b"
      },
      "source": [
        "text2 = ' ' + text + '' + '\\n'\n",
        "print(text2)"
      ],
      "execution_count": 17,
      "outputs": [
        {
          "output_type": "stream",
          "text": [
            " A CS School Blog article\n",
            "\n"
          ],
          "name": "stdout"
        }
      ]
    },
    {
      "cell_type": "code",
      "metadata": {
        "colab": {
          "base_uri": "https://localhost:8080/"
        },
        "id": "zsjfS7s0Lfpv",
        "outputId": "baf43ef7-72bf-4323-dbc8-731d898f0148"
      },
      "source": [
        "print(text2.rstrip())"
      ],
      "execution_count": 18,
      "outputs": [
        {
          "output_type": "stream",
          "text": [
            " A CS School Blog article\n"
          ],
          "name": "stdout"
        }
      ]
    },
    {
      "cell_type": "markdown",
      "metadata": {
        "id": "6vpPKFg7ip_F"
      },
      "source": [
        "### **Separator.join(iterable)**\n",
        "join returns a string after performing operation"
      ]
    },
    {
      "cell_type": "code",
      "metadata": {
        "id": "Il5j8mJGON1u",
        "colab": {
          "base_uri": "https://localhost:8080/"
        },
        "outputId": "4da8d654-0d59-4546-a208-05202bdd3db6"
      },
      "source": [
        "list_str"
      ],
      "execution_count": 19,
      "outputs": [
        {
          "output_type": "execute_result",
          "data": {
            "text/plain": [
              "['A', 'CS', 'School', 'Blog', 'article']"
            ]
          },
          "metadata": {
            "tags": []
          },
          "execution_count": 19
        }
      ]
    },
    {
      "cell_type": "code",
      "metadata": {
        "colab": {
          "base_uri": "https://localhost:8080/"
        },
        "id": "aNBl_asdioHo",
        "outputId": "a3ebbf16-d714-4154-da8f-faacf074f76f"
      },
      "source": [
        "# lets join on the list\n",
        "print(' '.join(list_str))"
      ],
      "execution_count": 20,
      "outputs": [
        {
          "output_type": "stream",
          "text": [
            "A CS School Blog article\n"
          ],
          "name": "stdout"
        }
      ]
    },
    {
      "cell_type": "code",
      "metadata": {
        "colab": {
          "base_uri": "https://localhost:8080/"
        },
        "id": "kj2vGBH-qGzm",
        "outputId": "5fb3aa72-d842-449f-8408-2edddfeb4626"
      },
      "source": [
        "# Or,\n",
        "print(' + '.join(list_str))"
      ],
      "execution_count": 21,
      "outputs": [
        {
          "output_type": "stream",
          "text": [
            "A + CS + School + Blog + article\n"
          ],
          "name": "stdout"
        }
      ]
    },
    {
      "cell_type": "markdown",
      "metadata": {
        "id": "OibeTEmI11Y4"
      },
      "source": [
        "### **Find() Method**"
      ]
    },
    {
      "cell_type": "code",
      "metadata": {
        "id": "iZmwBhV9jW_P",
        "colab": {
          "base_uri": "https://localhost:8080/"
        },
        "outputId": "559f179b-7887-45f6-e334-798b1d145a37"
      },
      "source": [
        "print(text.find('compSci'))"
      ],
      "execution_count": 30,
      "outputs": [
        {
          "output_type": "stream",
          "text": [
            "-1\n"
          ],
          "name": "stdout"
        }
      ]
    },
    {
      "cell_type": "code",
      "metadata": {
        "colab": {
          "base_uri": "https://localhost:8080/"
        },
        "id": "hkxon5CdVijw",
        "outputId": "5ba3dd69-c770-4206-e213-9dccd4f2126a"
      },
      "source": [
        "print(text.find('CS'))"
      ],
      "execution_count": 28,
      "outputs": [
        {
          "output_type": "stream",
          "text": [
            "2\n"
          ],
          "name": "stdout"
        }
      ]
    },
    {
      "cell_type": "markdown",
      "metadata": {
        "id": "QcAY9bWYaRDW"
      },
      "source": [
        "### **Formatted String**"
      ]
    },
    {
      "cell_type": "code",
      "metadata": {
        "id": "Zp4UBOmmVubU"
      },
      "source": [
        ""
      ],
      "execution_count": null,
      "outputs": []
    }
  ]
}