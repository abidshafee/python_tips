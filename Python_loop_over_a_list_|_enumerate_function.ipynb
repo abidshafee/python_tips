{
  "nbformat": 4,
  "nbformat_minor": 0,
  "metadata": {
    "colab": {
      "name": "Python loop over a list | enumerate function.ipynb",
      "provenance": [],
      "collapsed_sections": [],
      "authorship_tag": "ABX9TyPH5Dy+RgozU8jbIkosWWXu",
      "include_colab_link": true
    },
    "kernelspec": {
      "name": "python3",
      "display_name": "Python 3"
    }
  },
  "cells": [
    {
      "cell_type": "markdown",
      "metadata": {
        "id": "view-in-github",
        "colab_type": "text"
      },
      "source": [
        "<a href=\"https://colab.research.google.com/github/abidshafee/python_tips/blob/main/Python_loop_over_a_list_%7C_enumerate_function.ipynb\" target=\"_parent\"><img src=\"https://colab.research.google.com/assets/colab-badge.svg\" alt=\"Open In Colab\"/></a>"
      ]
    },
    {
      "cell_type": "markdown",
      "metadata": {
        "id": "2OvJtJZFFjWP"
      },
      "source": [
        "# Looping over a list with index values | `enumerate()` | `zip()` function"
      ]
    },
    {
      "cell_type": "markdown",
      "metadata": {
        "id": "Os6RbR8WHFba"
      },
      "source": [
        "### Simple way"
      ]
    },
    {
      "cell_type": "code",
      "metadata": {
        "colab": {
          "base_uri": "https://localhost:8080/"
        },
        "id": "recc3Np1FVeZ",
        "outputId": "4c5ccb52-b30f-4cbd-92f7-06f25fb28509"
      },
      "source": [
        "m_list = ['item1', 'item2', 'item3', 'item4', 'item5']\r\n",
        "index = 0\r\n",
        "\r\n",
        "#loop over the list\r\n",
        "for item in m_list:\r\n",
        "  print(index, item)\r\n",
        "  index+=1"
      ],
      "execution_count": 5,
      "outputs": [
        {
          "output_type": "stream",
          "text": [
            "0 item1\n",
            "1 item2\n",
            "2 item3\n",
            "3 item4\n",
            "4 item5\n"
          ],
          "name": "stdout"
        }
      ]
    },
    {
      "cell_type": "markdown",
      "metadata": {
        "id": "ryn-yEW7HawU"
      },
      "source": [
        "## loop over using `enumerate()` function\r\n"
      ]
    },
    {
      "cell_type": "markdown",
      "metadata": {
        "id": "BgOVmgnHImnx"
      },
      "source": [
        "Accessing the first item in the list"
      ]
    },
    {
      "cell_type": "code",
      "metadata": {
        "colab": {
          "base_uri": "https://localhost:8080/"
        },
        "id": "p0s2ttzMGbeN",
        "outputId": "65142353-d8cd-4ad8-fec2-b909ce8c31fa"
      },
      "source": [
        "print(m_list[0])"
      ],
      "execution_count": 3,
      "outputs": [
        {
          "output_type": "stream",
          "text": [
            "item1\n"
          ],
          "name": "stdout"
        }
      ]
    },
    {
      "cell_type": "markdown",
      "metadata": {
        "id": "_1SF0OWSIvAr"
      },
      "source": [
        "Accessing the last item in the list using negative index"
      ]
    },
    {
      "cell_type": "code",
      "metadata": {
        "colab": {
          "base_uri": "https://localhost:8080/"
        },
        "id": "NY7P9gEnHYvf",
        "outputId": "9744793f-ff15-4ea5-f94b-b4410c102695"
      },
      "source": [
        "print(m_list[-1])"
      ],
      "execution_count": 4,
      "outputs": [
        {
          "output_type": "stream",
          "text": [
            "item5\n"
          ],
          "name": "stdout"
        }
      ]
    },
    {
      "cell_type": "markdown",
      "metadata": {
        "id": "7_ZDl4yYJjgG"
      },
      "source": [
        "**looping through enumerate**"
      ]
    },
    {
      "cell_type": "code",
      "metadata": {
        "colab": {
          "base_uri": "https://localhost:8080/"
        },
        "id": "wLGmTuHHI7rq",
        "outputId": "efe11325-a7e2-4abf-f408-34f3c17a0ff7"
      },
      "source": [
        "for index, item in enumerate(m_list, start=1):\r\n",
        "  print(index, item)"
      ],
      "execution_count": 7,
      "outputs": [
        {
          "output_type": "stream",
          "text": [
            "1 item1\n",
            "2 item2\n",
            "3 item3\n",
            "4 item4\n",
            "5 item5\n"
          ],
          "name": "stdout"
        }
      ]
    },
    {
      "cell_type": "code",
      "metadata": {
        "id": "7TpH2CT8KHnr"
      },
      "source": [
        ""
      ],
      "execution_count": null,
      "outputs": []
    }
  ]
}