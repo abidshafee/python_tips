{
  "nbformat": 4,
  "nbformat_minor": 0,
  "metadata": {
    "colab": {
      "name": "Python loop over a list | enumerate and zip function.ipynb",
      "provenance": [],
      "collapsed_sections": [],
      "authorship_tag": "ABX9TyPt6F94aVK+zNpL3r938Sy/",
      "include_colab_link": true
    },
    "kernelspec": {
      "name": "python3",
      "display_name": "Python 3"
    }
  },
  "cells": [
    {
      "cell_type": "markdown",
      "metadata": {
        "id": "view-in-github",
        "colab_type": "text"
      },
      "source": [
        "<a href=\"https://colab.research.google.com/github/abidshafee/python_tips/blob/main/Python_loop_over_a_list_%7C_enumerate_and_zip_function.ipynb\" target=\"_parent\"><img src=\"https://colab.research.google.com/assets/colab-badge.svg\" alt=\"Open In Colab\"/></a>"
      ]
    },
    {
      "cell_type": "markdown",
      "metadata": {
        "id": "2OvJtJZFFjWP"
      },
      "source": [
        "# Python Looping over List Items with index values | `enumerate()` and `zip()` functions\r\n",
        "Here we wil see tree ways to unpacking list items(`list = ['item1', 'item2', 'item3', 'item4', 'item5']`), the simple way, then doing the same task more starter way using **`enumerate()`** function, and unpacking multiple lists using python's **`zip()`** function."
      ]
    },
    {
      "cell_type": "markdown",
      "metadata": {
        "id": "Os6RbR8WHFba"
      },
      "source": [
        "### **Simple way to Unpack List-items**"
      ]
    },
    {
      "cell_type": "code",
      "metadata": {
        "colab": {
          "base_uri": "https://localhost:8080/"
        },
        "id": "recc3Np1FVeZ",
        "outputId": "4c5ccb52-b30f-4cbd-92f7-06f25fb28509"
      },
      "source": [
        "m_list = ['item1', 'item2', 'item3', 'item4', 'item5']\r\n",
        "index = 0\r\n",
        "\r\n",
        "#loop over the list\r\n",
        "for item in m_list:\r\n",
        "  print(index, item)\r\n",
        "  index+=1"
      ],
      "execution_count": null,
      "outputs": [
        {
          "output_type": "stream",
          "text": [
            "0 item1\n",
            "1 item2\n",
            "2 item3\n",
            "3 item4\n",
            "4 item5\n"
          ],
          "name": "stdout"
        }
      ]
    },
    {
      "cell_type": "markdown",
      "metadata": {
        "id": "ryn-yEW7HawU"
      },
      "source": [
        "## Loop over List-items using `enumerate()` function\r\n"
      ]
    },
    {
      "cell_type": "markdown",
      "metadata": {
        "id": "BgOVmgnHImnx"
      },
      "source": [
        "Accessing the first item in the list"
      ]
    },
    {
      "cell_type": "code",
      "metadata": {
        "colab": {
          "base_uri": "https://localhost:8080/"
        },
        "id": "p0s2ttzMGbeN",
        "outputId": "65142353-d8cd-4ad8-fec2-b909ce8c31fa"
      },
      "source": [
        "print(m_list[0])"
      ],
      "execution_count": null,
      "outputs": [
        {
          "output_type": "stream",
          "text": [
            "item1\n"
          ],
          "name": "stdout"
        }
      ]
    },
    {
      "cell_type": "markdown",
      "metadata": {
        "id": "_1SF0OWSIvAr"
      },
      "source": [
        "Accessing the last item in the list using negative index"
      ]
    },
    {
      "cell_type": "code",
      "metadata": {
        "colab": {
          "base_uri": "https://localhost:8080/"
        },
        "id": "NY7P9gEnHYvf",
        "outputId": "9744793f-ff15-4ea5-f94b-b4410c102695"
      },
      "source": [
        "print(m_list[-1])"
      ],
      "execution_count": null,
      "outputs": [
        {
          "output_type": "stream",
          "text": [
            "item5\n"
          ],
          "name": "stdout"
        }
      ]
    },
    {
      "cell_type": "markdown",
      "metadata": {
        "id": "7_ZDl4yYJjgG"
      },
      "source": [
        "### **Unpacking List-items Looping through `enumerate()` function**"
      ]
    },
    {
      "cell_type": "code",
      "metadata": {
        "colab": {
          "base_uri": "https://localhost:8080/"
        },
        "id": "wLGmTuHHI7rq",
        "outputId": "bf17db6a-5928-4be6-c0e3-627628b04855"
      },
      "source": [
        "for index, item in enumerate(m_list): # accept 'start' argument\r\n",
        "  print(index, item)"
      ],
      "execution_count": null,
      "outputs": [
        {
          "output_type": "stream",
          "text": [
            "0 item1\n",
            "1 item2\n",
            "2 item3\n",
            "3 item4\n",
            "4 item5\n"
          ],
          "name": "stdout"
        }
      ]
    },
    {
      "cell_type": "markdown",
      "metadata": {
        "id": "IvUUX9obR5l-"
      },
      "source": [
        "### **Looping over Multiple Lists using `zip()` function**"
      ]
    },
    {
      "cell_type": "code",
      "metadata": {
        "id": "7TpH2CT8KHnr"
      },
      "source": [
        "first_name = ['Shafekul', 'Saddam', 'Rasibul', 'Alomgir', 'Juel']\r\n",
        "last_name = ['Abid', 'Hossain', 'Karim', 'Hossain', 'Ahmed']"
      ],
      "execution_count": 21,
      "outputs": []
    },
    {
      "cell_type": "code",
      "metadata": {
        "colab": {
          "base_uri": "https://localhost:8080/"
        },
        "id": "B03gCOqpmncK",
        "outputId": "d80668e4-2210-4509-c8bb-95e7e26a90d4"
      },
      "source": [
        "for index, l_name in enumerate(last_name):\r\n",
        "  f_name = first_name[index]\r\n",
        "  print(f'{f_name} {l_name}')"
      ],
      "execution_count": 22,
      "outputs": [
        {
          "output_type": "stream",
          "text": [
            "Shafekul Abid\n",
            "Saddam Hossain\n",
            "Rasibul Karim\n",
            "Alomgir Hossain\n",
            "Juel Ahmed\n"
          ],
          "name": "stdout"
        }
      ]
    },
    {
      "cell_type": "code",
      "metadata": {
        "id": "cKXTpJD4pTkW"
      },
      "source": [
        "vicinity = ['Kushtia', 'Rajshahi', 'Poradah', 'Bogra', 'Kushtia']"
      ],
      "execution_count": 19,
      "outputs": []
    },
    {
      "cell_type": "code",
      "metadata": {
        "colab": {
          "base_uri": "https://localhost:8080/"
        },
        "id": "eQKRRT5Hrt89",
        "outputId": "c1909db8-5448-498a-9102-d0ceab9d2b44"
      },
      "source": [
        "for f_name, l_name, locality in zip(first_name, last_name, vicinity):\r\n",
        "  print(f'{f_name} {l_name} lives in {locality}')"
      ],
      "execution_count": 23,
      "outputs": [
        {
          "output_type": "stream",
          "text": [
            "Shafekul Abid lives in Kushtia\n",
            "Saddam Hossain lives in Rajshahi\n",
            "Rasibul Karim lives in Poradah\n",
            "Alomgir Hossain lives in Bogra\n",
            "Juel Ahmed lives in Kushtia\n"
          ],
          "name": "stdout"
        }
      ]
    },
    {
      "cell_type": "markdown",
      "metadata": {
        "id": "QbRISSjsukbz"
      },
      "source": [
        "Or we can simply unpack items from the multiple lists as follows,\r\n",
        "which simple returns a tuple of multiple lists items:"
      ]
    },
    {
      "cell_type": "code",
      "metadata": {
        "colab": {
          "base_uri": "https://localhost:8080/"
        },
        "id": "trM3EH9Kszb8",
        "outputId": "53593d55-7fa1-4f81-8b6e-e0e43ca172b4"
      },
      "source": [
        "for item in zip(first_name, last_name, vicinity):\r\n",
        "  print(item)"
      ],
      "execution_count": 24,
      "outputs": [
        {
          "output_type": "stream",
          "text": [
            "('Shafekul', 'Abid', 'Kushtia')\n",
            "('Saddam', 'Hossain', 'Rajshahi')\n",
            "('Rasibul', 'Karim', 'Poradah')\n",
            "('Alomgir', 'Hossain', 'Bogra')\n",
            "('Juel', 'Ahmed', 'Kushtia')\n"
          ],
          "name": "stdout"
        }
      ]
    },
    {
      "cell_type": "code",
      "metadata": {
        "colab": {
          "base_uri": "https://localhost:8080/"
        },
        "id": "ApvDPuSQubss",
        "outputId": "ee679d2d-abeb-43d1-ba75-9a569da33b53"
      },
      "source": [
        "type(item)"
      ],
      "execution_count": 25,
      "outputs": [
        {
          "output_type": "execute_result",
          "data": {
            "text/plain": [
              "tuple"
            ]
          },
          "metadata": {
            "tags": []
          },
          "execution_count": 25
        }
      ]
    },
    {
      "cell_type": "code",
      "metadata": {
        "id": "1pTWSvjWuek1"
      },
      "source": [
        ""
      ],
      "execution_count": null,
      "outputs": []
    }
  ]
}