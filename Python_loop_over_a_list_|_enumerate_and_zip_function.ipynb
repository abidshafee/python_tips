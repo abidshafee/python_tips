{
  "nbformat": 4,
  "nbformat_minor": 0,
  "metadata": {
    "colab": {
      "name": "Python loop over a list | enumerate and zip function.ipynb",
      "provenance": [],
      "collapsed_sections": [],
      "authorship_tag": "ABX9TyPfuXT21HvA3CTa/hKFn4y1",
      "include_colab_link": true
    },
    "kernelspec": {
      "name": "python3",
      "display_name": "Python 3"
    }
  },
  "cells": [
    {
      "cell_type": "markdown",
      "metadata": {
        "id": "view-in-github",
        "colab_type": "text"
      },
      "source": [
        "<a href=\"https://colab.research.google.com/github/abidshafee/python_tips/blob/main/Python_loop_over_a_list_%7C_enumerate_and_zip_function.ipynb\" target=\"_parent\"><img src=\"https://colab.research.google.com/assets/colab-badge.svg\" alt=\"Open In Colab\"/></a>"
      ]
    },
    {
      "cell_type": "markdown",
      "metadata": {
        "id": "2OvJtJZFFjWP"
      },
      "source": [
        "# Python Looping over List Items with index values | `enumerate()` and `zip()` functions\r\n",
        "Here we wil see tree ways to unpacking list items(`list = ['item1', 'item2', 'item3', 'item4', 'item5']`), the simple way, then doing the same task more starter way using **`enumerate()`** function, and unpacking multiple lists using python's **`zip()`** function."
      ]
    },
    {
      "cell_type": "markdown",
      "metadata": {
        "id": "Os6RbR8WHFba"
      },
      "source": [
        "### **Simple way to Unpack List-items**"
      ]
    },
    {
      "cell_type": "code",
      "metadata": {
        "colab": {
          "base_uri": "https://localhost:8080/"
        },
        "id": "recc3Np1FVeZ",
        "outputId": "b1836866-cd53-48d4-8a9f-53fd5881612e"
      },
      "source": [
        "m_list = ['item1', 'item2', 'item3', 'item4', 'item5']\r\n",
        "index = 0\r\n",
        "\r\n",
        "#loop over the list\r\n",
        "for item in m_list:\r\n",
        "  print(index, item)\r\n",
        "  index+=1"
      ],
      "execution_count": 2,
      "outputs": [
        {
          "output_type": "stream",
          "text": [
            "0 item1\n",
            "1 item2\n",
            "2 item3\n",
            "3 item4\n",
            "4 item5\n"
          ],
          "name": "stdout"
        }
      ]
    },
    {
      "cell_type": "markdown",
      "metadata": {
        "id": "ryn-yEW7HawU"
      },
      "source": [
        "## Loop over List-items using `enumerate()` function\r\n"
      ]
    },
    {
      "cell_type": "markdown",
      "metadata": {
        "id": "BgOVmgnHImnx"
      },
      "source": [
        "Accessing the first item in the list"
      ]
    },
    {
      "cell_type": "code",
      "metadata": {
        "id": "p0s2ttzMGbeN"
      },
      "source": [
        "print(m_list[0])"
      ],
      "execution_count": null,
      "outputs": []
    },
    {
      "cell_type": "markdown",
      "metadata": {
        "id": "_1SF0OWSIvAr"
      },
      "source": [
        "Accessing the last item in the list using negative index"
      ]
    },
    {
      "cell_type": "code",
      "metadata": {
        "id": "NY7P9gEnHYvf",
        "colab": {
          "base_uri": "https://localhost:8080/"
        },
        "outputId": "93876bd1-b440-4ea2-fe56-95c7a20244f4"
      },
      "source": [
        "print(m_list[-1])"
      ],
      "execution_count": 6,
      "outputs": [
        {
          "output_type": "stream",
          "text": [
            "item5\n"
          ],
          "name": "stdout"
        }
      ]
    },
    {
      "cell_type": "markdown",
      "metadata": {
        "id": "7_ZDl4yYJjgG"
      },
      "source": [
        "### **Unpacking List-items Looping through `enumerate()` function**"
      ]
    },
    {
      "cell_type": "code",
      "metadata": {
        "id": "wLGmTuHHI7rq",
        "colab": {
          "base_uri": "https://localhost:8080/"
        },
        "outputId": "a0e5a963-0755-456b-a856-a23640b1a76d"
      },
      "source": [
        "for index, item in enumerate(m_list, start=1): # accept 'start' argument\r\n",
        "  print(index, item)"
      ],
      "execution_count": 8,
      "outputs": [
        {
          "output_type": "stream",
          "text": [
            "1 item1\n",
            "2 item2\n",
            "3 item3\n",
            "4 item4\n",
            "5 item5\n"
          ],
          "name": "stdout"
        }
      ]
    },
    {
      "cell_type": "markdown",
      "metadata": {
        "id": "IvUUX9obR5l-"
      },
      "source": [
        "### **Looping over Multiple Lists using `zip()` function**"
      ]
    },
    {
      "cell_type": "code",
      "metadata": {
        "id": "7TpH2CT8KHnr"
      },
      "source": [
        "first_name = ['Shafekul', 'Saddam', 'Rasibul', 'Alomgir', 'Juel']\r\n",
        "last_name = ['Abid', 'Hossain', 'Karim', 'Hossain', 'Ahmed']"
      ],
      "execution_count": 9,
      "outputs": []
    },
    {
      "cell_type": "markdown",
      "metadata": {
        "id": "eEAUsQPaIBRK"
      },
      "source": [
        "Unpacking two list using `enumerate()` function"
      ]
    },
    {
      "cell_type": "code",
      "metadata": {
        "id": "B03gCOqpmncK",
        "colab": {
          "base_uri": "https://localhost:8080/"
        },
        "outputId": "dde0d595-0921-4276-e84f-b07afc9e4be4"
      },
      "source": [
        "for index, l_name in enumerate(last_name):\r\n",
        "  f_name = first_name[index]\r\n",
        "  print(f'{f_name} {l_name}')"
      ],
      "execution_count": 11,
      "outputs": [
        {
          "output_type": "stream",
          "text": [
            "Shafekul Abid\n",
            "Saddam Hossain\n",
            "Rasibul Karim\n",
            "Alomgir Hossain\n",
            "Juel Ahmed\n"
          ],
          "name": "stdout"
        }
      ]
    },
    {
      "cell_type": "markdown",
      "metadata": {
        "id": "rvNeRZ9DH7Dg"
      },
      "source": [
        "**Inserting a third List**"
      ]
    },
    {
      "cell_type": "code",
      "metadata": {
        "id": "cKXTpJD4pTkW"
      },
      "source": [
        "vicinity = ['Kushtia', 'Rajshahi', 'Poradah', 'Bogra', 'Kushtia']"
      ],
      "execution_count": 12,
      "outputs": []
    },
    {
      "cell_type": "code",
      "metadata": {
        "id": "eQKRRT5Hrt89",
        "colab": {
          "base_uri": "https://localhost:8080/"
        },
        "outputId": "099c1d95-8eb5-4fc0-dcb7-7d04aca20da0"
      },
      "source": [
        "for f_name, l_name, locality in zip(first_name, last_name, vicinity):\r\n",
        "  print(f'{f_name} {l_name} lives in {locality}')"
      ],
      "execution_count": 13,
      "outputs": [
        {
          "output_type": "stream",
          "text": [
            "Shafekul Abid lives in Kushtia\n",
            "Saddam Hossain lives in Rajshahi\n",
            "Rasibul Karim lives in Poradah\n",
            "Alomgir Hossain lives in Bogra\n",
            "Juel Ahmed lives in Kushtia\n"
          ],
          "name": "stdout"
        }
      ]
    },
    {
      "cell_type": "markdown",
      "metadata": {
        "id": "QbRISSjsukbz"
      },
      "source": [
        "Or we can simply unpack items from the multiple lists as follows,\r\n",
        "which simple returns a tuple of multiple lists items:"
      ]
    },
    {
      "cell_type": "code",
      "metadata": {
        "id": "trM3EH9Kszb8",
        "colab": {
          "base_uri": "https://localhost:8080/"
        },
        "outputId": "b3426e05-bf33-4e7d-a0b3-8e34d2ecbb4b"
      },
      "source": [
        "for item in zip(first_name, last_name, vicinity):\r\n",
        "  print(item)"
      ],
      "execution_count": 14,
      "outputs": [
        {
          "output_type": "stream",
          "text": [
            "('Shafekul', 'Abid', 'Kushtia')\n",
            "('Saddam', 'Hossain', 'Rajshahi')\n",
            "('Rasibul', 'Karim', 'Poradah')\n",
            "('Alomgir', 'Hossain', 'Bogra')\n",
            "('Juel', 'Ahmed', 'Kushtia')\n"
          ],
          "name": "stdout"
        }
      ]
    },
    {
      "cell_type": "code",
      "metadata": {
        "colab": {
          "base_uri": "https://localhost:8080/"
        },
        "id": "ApvDPuSQubss",
        "outputId": "42831e98-3aa9-44a1-c09a-11fef83e925e"
      },
      "source": [
        "type(item)"
      ],
      "execution_count": 15,
      "outputs": [
        {
          "output_type": "execute_result",
          "data": {
            "text/plain": [
              "tuple"
            ]
          },
          "metadata": {
            "tags": []
          },
          "execution_count": 15
        }
      ]
    },
    {
      "cell_type": "code",
      "metadata": {
        "id": "1pTWSvjWuek1"
      },
      "source": [
        ""
      ],
      "execution_count": null,
      "outputs": []
    }
  ]
}