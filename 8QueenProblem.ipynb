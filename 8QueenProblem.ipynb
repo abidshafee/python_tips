{
  "nbformat": 4,
  "nbformat_minor": 0,
  "metadata": {
    "colab": {
      "name": "8QueenProblem.ipynb",
      "provenance": [],
      "collapsed_sections": [],
      "authorship_tag": "ABX9TyPOJSbXP3NrQAb2rpuRUgLp",
      "include_colab_link": true
    },
    "kernelspec": {
      "name": "python3",
      "display_name": "Python 3"
    },
    "language_info": {
      "name": "python"
    }
  },
  "cells": [
    {
      "cell_type": "markdown",
      "metadata": {
        "id": "view-in-github",
        "colab_type": "text"
      },
      "source": [
        "<a href=\"https://colab.research.google.com/github/abidshafee/python_tips/blob/main/8QueenProblem.ipynb\" target=\"_parent\"><img src=\"https://colab.research.google.com/assets/colab-badge.svg\" alt=\"Open In Colab\"/></a>"
      ]
    },
    {
      "cell_type": "code",
      "metadata": {
        "id": "tTaVu8mhdCTv"
      },
      "source": [
        "nQueens = 8\n",
        "currentSolution = [0 for x in range(nQueens)]\n",
        "solution = []"
      ],
      "execution_count": 7,
      "outputs": []
    },
    {
      "cell_type": "code",
      "metadata": {
        "id": "n9ZzWs5YhE7f"
      },
      "source": [
        "def isSafe(tRow, tCol):\n",
        "  if row == 0:\n",
        "    return True\n",
        "\n",
        "  for row in range(0, tRow):\n",
        "\n",
        "    #check vertical\n",
        "    if col == currentSolution[row]:\n",
        "      return False\n",
        "\n",
        "    #check diagonal\n",
        "    if abs(tRow - row) == abs(tCol - currentSolution[row]):\n",
        "      return False\n",
        "\n",
        "  # no attack found\n",
        "  return True\n",
        "    "
      ],
      "execution_count": 8,
      "outputs": []
    },
    {
      "cell_type": "code",
      "metadata": {
        "colab": {
          "base_uri": "https://localhost:8080/",
          "height": 350
        },
        "id": "e3Hco_Hov_ze",
        "outputId": "ede610e8-50c7-44a9-cfb2-3ca11d8e2692"
      },
      "source": [
        "for queen0 in range(nQueens):\n",
        "  if not isSafe(0, queen0):\n",
        "    continue\n",
        "  else:\n",
        "    currentSolution[0] = queen0\n",
        "\n",
        "  for queen1 in range(nQueens):\n",
        "    if not isSafe(1, queen1):\n",
        "      continue\n",
        "    else:\n",
        "      currentSolution[1] = queen1\n",
        "\n",
        "    for queen2 in range(nQueens):\n",
        "      if not isSafe(2, queen2):\n",
        "        continue\n",
        "      else:\n",
        "        currentSolution[2] = queen2\n",
        "      \n",
        "      for q3 in range(nQueens):\n",
        "        if not isSafe(3, q3):\n",
        "          continue\n",
        "        else:\n",
        "          currentSolution[3] = q3\n",
        "\n",
        "        for q4 in range(nQueens):\n",
        "          if not isSafe(4, q4):\n",
        "            continue\n",
        "          else:\n",
        "            currentSolution[4] = q4\n",
        "\n",
        "          for q5 in range(nQueens):\n",
        "            if not isSafe(5, q5):\n",
        "              continue\n",
        "            else:\n",
        "              currentSolution[5] = q5\n",
        "\n",
        "            for q6 in range(nQueens):\n",
        "              if not isSafe(6, q6):\n",
        "                continue\n",
        "              else:\n",
        "                currentSolution[6] = q6\n",
        "\n",
        "              for q7 in range(nQueens):\n",
        "                if not isSafe(7, q7):\n",
        "                  continue\n",
        "                else:\n",
        "                  currentSolution[7] = q7\n",
        "                  solution.append(currentSolution.copy())\n",
        "\n",
        "\n"
      ],
      "execution_count": 9,
      "outputs": [
        {
          "output_type": "error",
          "ename": "UnboundLocalError",
          "evalue": "ignored",
          "traceback": [
            "\u001b[0;31m---------------------------------------------------------------------------\u001b[0m",
            "\u001b[0;31mUnboundLocalError\u001b[0m                         Traceback (most recent call last)",
            "\u001b[0;32m<ipython-input-9-cc0a22e228d4>\u001b[0m in \u001b[0;36m<module>\u001b[0;34m()\u001b[0m\n\u001b[1;32m      1\u001b[0m \u001b[0;32mfor\u001b[0m \u001b[0mqueen0\u001b[0m \u001b[0;32min\u001b[0m \u001b[0mrange\u001b[0m\u001b[0;34m(\u001b[0m\u001b[0mnQueens\u001b[0m\u001b[0;34m)\u001b[0m\u001b[0;34m:\u001b[0m\u001b[0;34m\u001b[0m\u001b[0;34m\u001b[0m\u001b[0m\n\u001b[0;32m----> 2\u001b[0;31m   \u001b[0;32mif\u001b[0m \u001b[0;32mnot\u001b[0m \u001b[0misSafe\u001b[0m\u001b[0;34m(\u001b[0m\u001b[0;36m0\u001b[0m\u001b[0;34m,\u001b[0m \u001b[0mqueen0\u001b[0m\u001b[0;34m)\u001b[0m\u001b[0;34m:\u001b[0m\u001b[0;34m\u001b[0m\u001b[0;34m\u001b[0m\u001b[0m\n\u001b[0m\u001b[1;32m      3\u001b[0m     \u001b[0;32mcontinue\u001b[0m\u001b[0;34m\u001b[0m\u001b[0;34m\u001b[0m\u001b[0m\n\u001b[1;32m      4\u001b[0m   \u001b[0;32melse\u001b[0m\u001b[0;34m:\u001b[0m\u001b[0;34m\u001b[0m\u001b[0;34m\u001b[0m\u001b[0m\n\u001b[1;32m      5\u001b[0m     \u001b[0mcurrentSolution\u001b[0m\u001b[0;34m[\u001b[0m\u001b[0;36m0\u001b[0m\u001b[0;34m]\u001b[0m \u001b[0;34m=\u001b[0m \u001b[0mqueen0\u001b[0m\u001b[0;34m\u001b[0m\u001b[0;34m\u001b[0m\u001b[0m\n",
            "\u001b[0;32m<ipython-input-8-c4b4207320be>\u001b[0m in \u001b[0;36misSafe\u001b[0;34m(tRow, tCol)\u001b[0m\n\u001b[1;32m      1\u001b[0m \u001b[0;32mdef\u001b[0m \u001b[0misSafe\u001b[0m\u001b[0;34m(\u001b[0m\u001b[0mtRow\u001b[0m\u001b[0;34m,\u001b[0m \u001b[0mtCol\u001b[0m\u001b[0;34m)\u001b[0m\u001b[0;34m:\u001b[0m\u001b[0;34m\u001b[0m\u001b[0;34m\u001b[0m\u001b[0m\n\u001b[0;32m----> 2\u001b[0;31m   \u001b[0;32mif\u001b[0m \u001b[0mrow\u001b[0m \u001b[0;34m==\u001b[0m \u001b[0;36m0\u001b[0m\u001b[0;34m:\u001b[0m\u001b[0;34m\u001b[0m\u001b[0;34m\u001b[0m\u001b[0m\n\u001b[0m\u001b[1;32m      3\u001b[0m     \u001b[0;32mreturn\u001b[0m \u001b[0;32mTrue\u001b[0m\u001b[0;34m\u001b[0m\u001b[0;34m\u001b[0m\u001b[0m\n\u001b[1;32m      4\u001b[0m \u001b[0;34m\u001b[0m\u001b[0m\n\u001b[1;32m      5\u001b[0m   \u001b[0;32mfor\u001b[0m \u001b[0mrow\u001b[0m \u001b[0;32min\u001b[0m \u001b[0mrange\u001b[0m\u001b[0;34m(\u001b[0m\u001b[0;36m0\u001b[0m\u001b[0;34m,\u001b[0m \u001b[0mtRow\u001b[0m\u001b[0;34m)\u001b[0m\u001b[0;34m:\u001b[0m\u001b[0;34m\u001b[0m\u001b[0;34m\u001b[0m\u001b[0m\n",
            "\u001b[0;31mUnboundLocalError\u001b[0m: local variable 'row' referenced before assignment"
          ]
        }
      ]
    },
    {
      "cell_type": "code",
      "metadata": {
        "id": "cQ6nBWYLFdJE"
      },
      "source": [
        ""
      ],
      "execution_count": null,
      "outputs": []
    }
  ]
}