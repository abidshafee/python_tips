{
  "nbformat": 4,
  "nbformat_minor": 0,
  "metadata": {
    "colab": {
      "name": "8QueenProblem.ipynb",
      "provenance": [],
      "collapsed_sections": [],
      "authorship_tag": "ABX9TyMiBAO4FdTW6dQFXLVj49D9",
      "include_colab_link": true
    },
    "kernelspec": {
      "name": "python3",
      "display_name": "Python 3"
    },
    "language_info": {
      "name": "python"
    }
  },
  "cells": [
    {
      "cell_type": "markdown",
      "metadata": {
        "id": "view-in-github",
        "colab_type": "text"
      },
      "source": [
        "<a href=\"https://colab.research.google.com/github/abidshafee/python_tips/blob/main/8QueenProblem.ipynb\" target=\"_parent\"><img src=\"https://colab.research.google.com/assets/colab-badge.svg\" alt=\"Open In Colab\"/></a>"
      ]
    },
    {
      "cell_type": "code",
      "metadata": {
        "id": "tTaVu8mhdCTv"
      },
      "source": [
        "nQueens = 8\n",
        "currentSolution = [0 for x in range(nQueens)]\n",
        "solution = []"
      ],
      "execution_count": 7,
      "outputs": []
    },
    {
      "cell_type": "code",
      "metadata": {
        "id": "n9ZzWs5YhE7f"
      },
      "source": [
        "def isSafe(tRow, tCol):\n",
        "  if tRow == 0:\n",
        "    return True\n",
        "\n",
        "  for row in range(0, tRow):\n",
        "\n",
        "    #check vertical\n",
        "    if tCol == currentSolution[row]:\n",
        "      return False\n",
        "\n",
        "    #check diagonal\n",
        "    if abs(tRow - row) == abs(tCol - currentSolution[row]):\n",
        "      return False\n",
        "\n",
        "  # no attack found\n",
        "  return True\n",
        "    "
      ],
      "execution_count": 12,
      "outputs": []
    },
    {
      "cell_type": "code",
      "metadata": {
        "id": "e3Hco_Hov_ze"
      },
      "source": [
        "for queen0 in range(nQueens):\n",
        "  if not isSafe(0, queen0):\n",
        "    continue\n",
        "  else:\n",
        "    currentSolution[0] = queen0\n",
        "\n",
        "  for queen1 in range(nQueens):\n",
        "    if not isSafe(1, queen1):\n",
        "      continue\n",
        "    else:\n",
        "      currentSolution[1] = queen1\n",
        "\n",
        "    for queen2 in range(nQueens):\n",
        "      if not isSafe(2, queen2):\n",
        "        continue\n",
        "      else:\n",
        "        currentSolution[2] = queen2\n",
        "      \n",
        "      for q3 in range(nQueens):\n",
        "        if not isSafe(3, q3):\n",
        "          continue\n",
        "        else:\n",
        "          currentSolution[3] = q3\n",
        "\n",
        "        for q4 in range(nQueens):\n",
        "          if not isSafe(4, q4):\n",
        "            continue\n",
        "          else:\n",
        "            currentSolution[4] = q4\n",
        "\n",
        "          for q5 in range(nQueens):\n",
        "            if not isSafe(5, q5):\n",
        "              continue\n",
        "            else:\n",
        "              currentSolution[5] = q5\n",
        "\n",
        "            for q6 in range(nQueens):\n",
        "              if not isSafe(6, q6):\n",
        "                continue\n",
        "              else:\n",
        "                currentSolution[6] = q6\n",
        "\n",
        "              for q7 in range(nQueens):\n",
        "                if not isSafe(7, q7):\n",
        "                  continue\n",
        "                else:\n",
        "                  currentSolution[7] = q7\n",
        "                  solution.append(currentSolution.copy())\n",
        "\n",
        "\n"
      ],
      "execution_count": 13,
      "outputs": []
    },
    {
      "cell_type": "code",
      "metadata": {
        "id": "cQ6nBWYLFdJE"
      },
      "source": [
        "print(len(solution), \"Solution Found!\")\n",
        "for sol in solution:\n",
        "  print(sol)"
      ],
      "execution_count": null,
      "outputs": []
    },
    {
      "cell_type": "code",
      "metadata": {
        "id": "etlUa4CcG7jE"
      },
      "source": [
        "# or we can run this function instead\n",
        "nQ = 8\n",
        "cs = [0 for x in range(nQ)]\n",
        "s = []\n",
        "\n",
        "\n",
        "def setQ(row):\n",
        "  global cs, s, nQ\n",
        "\n",
        "  for col in range(nQ):\n",
        "    if not isSafe(row, col):\n",
        "      continue\n",
        "    else:\n",
        "      cs[row] = col\n",
        "      if row == (nQ -1):\n",
        "        s.append(cs.copy())\n",
        "\n",
        "      else:\n",
        "        setQ(row + 1)  "
      ],
      "execution_count": 23,
      "outputs": []
    },
    {
      "cell_type": "code",
      "metadata": {
        "colab": {
          "base_uri": "https://localhost:8080/"
        },
        "id": "h6hQxWxaLeF5",
        "outputId": "90dc75eb-ade1-4df4-d6aa-a91a66a20e30"
      },
      "source": [
        "setQ(0)\n",
        "\n",
        "print(len(s), \"Solution Found!\")\n",
        "for sol in s:\n",
        "  print(sol)"
      ],
      "execution_count": 24,
      "outputs": [
        {
          "output_type": "stream",
          "text": [
            "0 Solution Found!\n"
          ],
          "name": "stdout"
        }
      ]
    },
    {
      "cell_type": "code",
      "metadata": {
        "id": "aN04kJ65Lx3H"
      },
      "source": [
        ""
      ],
      "execution_count": null,
      "outputs": []
    }
  ]
}