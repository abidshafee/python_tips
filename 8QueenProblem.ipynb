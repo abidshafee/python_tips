{
  "nbformat": 4,
  "nbformat_minor": 0,
  "metadata": {
    "colab": {
      "name": "8QueenProblem.ipynb",
      "provenance": [],
      "authorship_tag": "ABX9TyORzZIZDI+QJQF5C9A1EChy",
      "include_colab_link": true
    },
    "kernelspec": {
      "name": "python3",
      "display_name": "Python 3"
    },
    "language_info": {
      "name": "python"
    }
  },
  "cells": [
    {
      "cell_type": "markdown",
      "metadata": {
        "id": "view-in-github",
        "colab_type": "text"
      },
      "source": [
        "<a href=\"https://colab.research.google.com/github/abidshafee/python_tips/blob/main/8QueenProblem.ipynb\" target=\"_parent\"><img src=\"https://colab.research.google.com/assets/colab-badge.svg\" alt=\"Open In Colab\"/></a>"
      ]
    },
    {
      "cell_type": "code",
      "metadata": {
        "id": "tTaVu8mhdCTv"
      },
      "source": [
        "nQueens = 8\n",
        "currentSolution = [0 for x in range(nQueens)]\n",
        "solution = []"
      ],
      "execution_count": 1,
      "outputs": []
    },
    {
      "cell_type": "code",
      "metadata": {
        "id": "n9ZzWs5YhE7f"
      },
      "source": [
        "def safeSquire(tRow, tCol):\n",
        "  if row == 0:\n",
        "    return True\n",
        "\n",
        "  for row in range(0, tRow):\n",
        "\n",
        "    #check vertical\n",
        "    if col == currentSolution[row]:\n",
        "      return False\n",
        "\n",
        "    #check diagonal\n",
        "    if abs(tRow - row) == abs(tCol - currentSolution[row]):\n",
        "      return False\n",
        "\n",
        "  return True\n",
        "    "
      ],
      "execution_count": 3,
      "outputs": []
    },
    {
      "cell_type": "code",
      "metadata": {
        "id": "e3Hco_Hov_ze"
      },
      "source": [
        ""
      ],
      "execution_count": null,
      "outputs": []
    }
  ]
}